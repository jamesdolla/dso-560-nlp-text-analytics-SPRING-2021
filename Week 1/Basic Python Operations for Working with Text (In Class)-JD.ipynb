{
 "cells": [
  {
   "cell_type": "markdown",
   "metadata": {
    "toc": true
   },
   "source": [
    "<h1>Table of Contents<span class=\"tocSkip\"></span></h1>\n",
    "<div class=\"toc\"><ul class=\"toc-item\"><li><ul class=\"toc-item\"><li><span><a href=\"#Installing-Required-Libraries\" data-toc-modified-id=\"Installing-Required-Libraries-0.1\"><span class=\"toc-item-num\">0.1&nbsp;&nbsp;</span>Installing Required Libraries</a></span><ul class=\"toc-item\"><li><ul class=\"toc-item\"><li><span><a href=\"#Getting-Familiar-With-Jupyter-Notebooks\" data-toc-modified-id=\"Getting-Familiar-With-Jupyter-Notebooks-0.1.0.1\"><span class=\"toc-item-num\">0.1.0.1&nbsp;&nbsp;</span>Getting Familiar With Jupyter Notebooks</a></span></li></ul></li></ul></li></ul></li><li><span><a href=\"#Week-1:-Basic-Python-Operations-for-Working-with-Text\" data-toc-modified-id=\"Week-1:-Basic-Python-Operations-for-Working-with-Text-1\"><span class=\"toc-item-num\">1&nbsp;&nbsp;</span>Week 1: Basic Python Operations for Working with Text</a></span></li><li><span><a href=\"#The-Scale-of-Data-in-the-21st-Century\" data-toc-modified-id=\"The-Scale-of-Data-in-the-21st-Century-2\"><span class=\"toc-item-num\">2&nbsp;&nbsp;</span>The Scale of Data in the 21st Century</a></span><ul class=\"toc-item\"><li><span><a href=\"#Overview\" data-toc-modified-id=\"Overview-2.1\"><span class=\"toc-item-num\">2.1&nbsp;&nbsp;</span>Overview</a></span><ul class=\"toc-item\"><li><ul class=\"toc-item\"><li><span><a href=\"#Text-Analytics\" data-toc-modified-id=\"Text-Analytics-2.1.0.1\"><span class=\"toc-item-num\">2.1.0.1&nbsp;&nbsp;</span>Text Analytics</a></span></li><li><span><a href=\"#Data-Engineering\" data-toc-modified-id=\"Data-Engineering-2.1.0.2\"><span class=\"toc-item-num\">2.1.0.2&nbsp;&nbsp;</span>Data Engineering</a></span></li><li><span><a href=\"#Statistics-/-Machine-Learning\" data-toc-modified-id=\"Statistics-/-Machine-Learning-2.1.0.3\"><span class=\"toc-item-num\">2.1.0.3&nbsp;&nbsp;</span>Statistics / Machine Learning</a></span></li></ul></li></ul></li><li><span><a href=\"#Loading-Text-into-Memory\" data-toc-modified-id=\"Loading-Text-into-Memory-2.2\"><span class=\"toc-item-num\">2.2&nbsp;&nbsp;</span>Loading Text into Memory</a></span><ul class=\"toc-item\"><li><ul class=\"toc-item\"><li><span><a href=\"#Opening-Files\" data-toc-modified-id=\"Opening-Files-2.2.0.1\"><span class=\"toc-item-num\">2.2.0.1&nbsp;&nbsp;</span>Opening Files</a></span></li></ul></li><li><span><a href=\"#An-Aside:-List-Comprehension\" data-toc-modified-id=\"An-Aside:-List-Comprehension-2.2.1\"><span class=\"toc-item-num\">2.2.1&nbsp;&nbsp;</span>An Aside: List Comprehension</a></span></li><li><span><a href=\"#Visualizing-Summary-Metrics-Using-Matplotlib\" data-toc-modified-id=\"Visualizing-Summary-Metrics-Using-Matplotlib-2.2.2\"><span class=\"toc-item-num\">2.2.2&nbsp;&nbsp;</span>Visualizing Summary Metrics Using Matplotlib</a></span></li><li><span><a href=\"#First-Method:-Create-a-Dictionary-to-Store-Word-Count\" data-toc-modified-id=\"First-Method:-Create-a-Dictionary-to-Store-Word-Count-2.2.3\"><span class=\"toc-item-num\">2.2.3&nbsp;&nbsp;</span>First Method: Create a Dictionary to Store Word Count</a></span></li><li><span><a href=\"#Using-Python's-Built-In-Counter\" data-toc-modified-id=\"Using-Python's-Built-In-Counter-2.2.4\"><span class=\"toc-item-num\">2.2.4&nbsp;&nbsp;</span>Using Python's Built-In Counter</a></span></li><li><span><a href=\"#In-Class-Question\" data-toc-modified-id=\"In-Class-Question-2.2.5\"><span class=\"toc-item-num\">2.2.5&nbsp;&nbsp;</span>In-Class Question</a></span></li></ul></li><li><span><a href=\"#Zipf's-Law\" data-toc-modified-id=\"Zipf's-Law-2.3\"><span class=\"toc-item-num\">2.3&nbsp;&nbsp;</span>Zipf's Law</a></span><ul class=\"toc-item\"><li><span><a href=\"#General-Definition\" data-toc-modified-id=\"General-Definition-2.3.1\"><span class=\"toc-item-num\">2.3.1&nbsp;&nbsp;</span>General Definition</a></span></li><li><span><a href=\"#Approximation-in-NLP\" data-toc-modified-id=\"Approximation-in-NLP-2.3.2\"><span class=\"toc-item-num\">2.3.2&nbsp;&nbsp;</span>Approximation in NLP</a></span></li><li><span><a href=\"#Zipf-Distributions\" data-toc-modified-id=\"Zipf-Distributions-2.3.3\"><span class=\"toc-item-num\">2.3.3&nbsp;&nbsp;</span>Zipf Distributions</a></span></li></ul></li></ul></li><li><span><a href=\"#Regular-Expressions\" data-toc-modified-id=\"Regular-Expressions-3\"><span class=\"toc-item-num\">3&nbsp;&nbsp;</span>Regular Expressions</a></span><ul class=\"toc-item\"><li><ul class=\"toc-item\"><li><span><a href=\"#Match-the-first-time-a-capital-letter-appears-in-the-tweet\" data-toc-modified-id=\"Match-the-first-time-a-capital-letter-appears-in-the-tweet-3.0.1\"><span class=\"toc-item-num\">3.0.1&nbsp;&nbsp;</span>Match the first time a capital letter appears in the tweet</a></span></li><li><span><a href=\"#Match-all-capital-letters-that-appears-in-the-tweet\" data-toc-modified-id=\"Match-all-capital-letters-that-appears-in-the-tweet-3.0.2\"><span class=\"toc-item-num\">3.0.2&nbsp;&nbsp;</span>Match all capital letters that appears in the tweet</a></span></li><li><span><a href=\"#Match-all-words-that-are-at-least-3-characters-long\" data-toc-modified-id=\"Match-all-words-that-are-at-least-3-characters-long-3.0.3\"><span class=\"toc-item-num\">3.0.3&nbsp;&nbsp;</span>Match all words that are at least 3 characters long</a></span></li><li><span><a href=\"#Word-Boundaries\" data-toc-modified-id=\"Word-Boundaries-3.0.4\"><span class=\"toc-item-num\">3.0.4&nbsp;&nbsp;</span>Word Boundaries</a></span></li><li><span><a href=\"#Removing-Stopwords-Using-Regex\" data-toc-modified-id=\"Removing-Stopwords-Using-Regex-3.0.5\"><span class=\"toc-item-num\">3.0.5&nbsp;&nbsp;</span>Removing Stopwords Using Regex</a></span></li><li><span><a href=\"#Regex-Exercises\" data-toc-modified-id=\"Regex-Exercises-3.0.6\"><span class=\"toc-item-num\">3.0.6&nbsp;&nbsp;</span>Regex Exercises</a></span></li></ul></li></ul></li><li><span><a href=\"#Encoding-Schemes\" data-toc-modified-id=\"Encoding-Schemes-4\"><span class=\"toc-item-num\">4&nbsp;&nbsp;</span>Encoding Schemes</a></span><ul class=\"toc-item\"><li><ul class=\"toc-item\"><li><span><a href=\"#Implications-for-Data-Science\" data-toc-modified-id=\"Implications-for-Data-Science-4.0.1\"><span class=\"toc-item-num\">4.0.1&nbsp;&nbsp;</span>Implications for Data Science</a></span></li></ul></li><li><span><a href=\"#World-Languages,-in-Context\" data-toc-modified-id=\"World-Languages,-in-Context-4.1\"><span class=\"toc-item-num\">4.1&nbsp;&nbsp;</span>World Languages, in Context</a></span></li><li><span><a href=\"#Bits-and-Bytes\" data-toc-modified-id=\"Bits-and-Bytes-4.2\"><span class=\"toc-item-num\">4.2&nbsp;&nbsp;</span>Bits and Bytes</a></span><ul class=\"toc-item\"><li><span><a href=\"#Exercises\" data-toc-modified-id=\"Exercises-4.2.1\"><span class=\"toc-item-num\">4.2.1&nbsp;&nbsp;</span>Exercises</a></span></li></ul></li><li><span><a href=\"#ASCII\" data-toc-modified-id=\"ASCII-4.3\"><span class=\"toc-item-num\">4.3&nbsp;&nbsp;</span>ASCII</a></span><ul class=\"toc-item\"><li><span><a href=\"#Encoding/Decoding-Words\" data-toc-modified-id=\"Encoding/Decoding-Words-4.3.1\"><span class=\"toc-item-num\">4.3.1&nbsp;&nbsp;</span>Encoding/Decoding Words</a></span><ul class=\"toc-item\"><li><span><a href=\"#Steps:\" data-toc-modified-id=\"Steps:-4.3.1.1\"><span class=\"toc-item-num\">4.3.1.1&nbsp;&nbsp;</span>Steps:</a></span></li><li><span><a href=\"#Exercises\" data-toc-modified-id=\"Exercises-4.3.1.2\"><span class=\"toc-item-num\">4.3.1.2&nbsp;&nbsp;</span>Exercises</a></span></li></ul></li><li><span><a href=\"#Python-Code\" data-toc-modified-id=\"Python-Code-4.3.2\"><span class=\"toc-item-num\">4.3.2&nbsp;&nbsp;</span>Python Code</a></span></li><li><span><a href=\"#Extended-ASCII\" data-toc-modified-id=\"Extended-ASCII-4.3.3\"><span class=\"toc-item-num\">4.3.3&nbsp;&nbsp;</span>Extended ASCII</a></span><ul class=\"toc-item\"><li><span><a href=\"#Latin-1\" data-toc-modified-id=\"Latin-1-4.3.3.1\"><span class=\"toc-item-num\">4.3.3.1&nbsp;&nbsp;</span>Latin-1</a></span></li><li><span><a href=\"#Excel-on-Macs\" data-toc-modified-id=\"Excel-on-Macs-4.3.3.2\"><span class=\"toc-item-num\">4.3.3.2&nbsp;&nbsp;</span>Excel on Macs</a></span></li></ul></li><li><span><a href=\"#Turning-Strings-into-Bytes\" data-toc-modified-id=\"Turning-Strings-into-Bytes-4.3.4\"><span class=\"toc-item-num\">4.3.4&nbsp;&nbsp;</span>Turning Strings into Bytes</a></span></li><li><span><a href=\"#Turning-Bytes-into-Strings\" data-toc-modified-id=\"Turning-Bytes-into-Strings-4.3.5\"><span class=\"toc-item-num\">4.3.5&nbsp;&nbsp;</span>Turning Bytes into Strings</a></span><ul class=\"toc-item\"><li><span><a href=\"#Exercises\" data-toc-modified-id=\"Exercises-4.3.5.1\"><span class=\"toc-item-num\">4.3.5.1&nbsp;&nbsp;</span>Exercises</a></span></li></ul></li></ul></li><li><span><a href=\"#Unicode\" data-toc-modified-id=\"Unicode-4.4\"><span class=\"toc-item-num\">4.4&nbsp;&nbsp;</span>Unicode</a></span><ul class=\"toc-item\"><li><span><a href=\"#UTF-8\" data-toc-modified-id=\"UTF-8-4.4.1\"><span class=\"toc-item-num\">4.4.1&nbsp;&nbsp;</span>UTF-8</a></span><ul class=\"toc-item\"><li><span><a href=\"#Getting-the-Codepoint-of-a-Character\" data-toc-modified-id=\"Getting-the-Codepoint-of-a-Character-4.4.1.1\"><span class=\"toc-item-num\">4.4.1.1&nbsp;&nbsp;</span>Getting the Codepoint of a Character</a></span></li><li><span><a href=\"#Getting-the-Character-from-a-Codepoint\" data-toc-modified-id=\"Getting-the-Character-from-a-Codepoint-4.4.1.2\"><span class=\"toc-item-num\">4.4.1.2&nbsp;&nbsp;</span>Getting the Character from a Codepoint</a></span></li></ul></li><li><span><a href=\"#Variable-Length-Encoding-/Digitalization-and-Internationalization\" data-toc-modified-id=\"Variable-Length-Encoding-/Digitalization-and-Internationalization-4.4.2\"><span class=\"toc-item-num\">4.4.2&nbsp;&nbsp;</span>Variable Length Encoding /Digitalization and Internationalization</a></span><ul class=\"toc-item\"><li><span><a href=\"#Data-Science-Implications\" data-toc-modified-id=\"Data-Science-Implications-4.4.2.1\"><span class=\"toc-item-num\">4.4.2.1&nbsp;&nbsp;</span>Data Science Implications</a></span></li></ul></li></ul></li></ul></li><li><span><a href=\"#Homework-1-(Due-Tuesday,-March-30th,-2021-at-6:29pm-PST)\" data-toc-modified-id=\"Homework-1-(Due-Tuesday,-March-30th,-2021-at-6:29pm-PST)-5\"><span class=\"toc-item-num\">5&nbsp;&nbsp;</span>Homework 1 (Due Tuesday, March 30th, 2021 at 6:29pm PST)</a></span><ul class=\"toc-item\"><li><span><a href=\"#Next-Week-(March-30th)\" data-toc-modified-id=\"Next-Week-(March-30th)-5.1\"><span class=\"toc-item-num\">5.1&nbsp;&nbsp;</span>Next Week (March 30th)</a></span><ul class=\"toc-item\"><li><span><a href=\"#Check-for-Understanding\" data-toc-modified-id=\"Check-for-Understanding-5.1.1\"><span class=\"toc-item-num\">5.1.1&nbsp;&nbsp;</span>Check for Understanding</a></span></li></ul></li></ul></li></ul></div>"
   ]
  },
  {
   "cell_type": "markdown",
   "metadata": {},
   "source": [
    "## Installing Required Libraries"
   ]
  },
  {
   "cell_type": "code",
   "execution_count": 1,
   "metadata": {
    "ExecuteTime": {
     "end_time": "2021-03-17T04:53:02.584181Z",
     "start_time": "2021-03-17T04:53:02.571213Z"
    }
   },
   "outputs": [],
   "source": [
    "# !pip3 install matplotlib\n",
    "# !pip3 install pandas"
   ]
  },
  {
   "cell_type": "markdown",
   "metadata": {},
   "source": [
    "#### Getting Familiar With Jupyter Notebooks"
   ]
  },
  {
   "cell_type": "markdown",
   "metadata": {},
   "source": [
    "Jupyter keyboard shortcuts:\n",
    "- Press `Esc` to go into **Command Mode**. Your cell should turn from green highlights to blue highlights.\n",
    "- In **Command Mode**, press `M` to go into `Markdown` mode. This turns your cell into Markdown text so you can type text.\n",
    "- Press `Y` to go into `Code` mode. This then allows you to begin typing Python code.\n",
    "- Press `A` to insert a cell above your current cell.\n",
    "- Press `B` to insert a cell below your current cell.\n",
    "- Press `D` twice to delete your current cell.\n",
    "- Press `Shift` + `Enter` to save your cell."
   ]
  },
  {
   "cell_type": "markdown",
   "metadata": {},
   "source": [
    "# Week 1: Basic Python Operations for Working with Text"
   ]
  },
  {
   "cell_type": "markdown",
   "metadata": {},
   "source": [
    "# The Scale of Data in the 21st Century\n",
    "<figure>\n",
    "  <img src=\"images/scale.png\" alt=\"my alt text\"/>\n",
    "    <figcaption><i>ASCII table converting numbers to characters.<b>(Wikipedia)</b></i></figcaption>\n",
    "</figure>"
   ]
  },
  {
   "cell_type": "markdown",
   "metadata": {},
   "source": [
    "## Overview\n",
    "\n",
    "By the end of this week, you should be able to perform the following operations:\n",
    "\n",
    "\n",
    "#### Text Analytics\n",
    "- **load a text file into memory** using Python's built-in streaming libraries\n",
    "- **visualize word count and line length distributions** as histograms using Matplotlib\n",
    "\n",
    "#### Data Engineering\n",
    "- **read strings from a text input/output stream** using `readline()` and `readlines()`\n",
    "- **use both native Python dictionaries and `collections.Counter` objects** to produce word counts for a text corpus\n",
    "- perform basic search/replace operations using **regular expressions**\n",
    "- encode/decode text from bytes to support internationalization and digital-native characters (such as **emojis**).\n",
    "\n",
    "#### Statistics / Machine Learning\n",
    "- **create a word transition matrix using Numpy arrays**, which can be used for probabilistic inference and text generation (we will cover Week 2)\n",
    "\n",
    "\n",
    "## Loading Text into Memory\n",
    "\n",
    "There are a variety of ways to hold data within memory. For text analytics and natural language processing purposes, we'll be most concerned with the following:\n",
    "\n",
    "- **list**\n",
    "- **set**\n",
    "- **dictionary**\n",
    "- **tuple**\n",
    "- **Numpy array**\n",
    "\n",
    "Imagine that we would like to find the most commonly used words in ***A Tale of Two Cities***, by the famed English novelist Charles Dickens, stored in a text file called **`tale-of-two-cities.txt`**, in the same directory as this Jupyter notebook. Later on, we'll use 3rd-party libraries to automate much of the processing, but for now, we'll explore Python's built-in functions for text processing.\n",
    "\n",
    "#### Opening Files"
   ]
  },
  {
   "cell_type": "markdown",
   "metadata": {},
   "source": [
    "The **`open()`** function takes *two* parameters; **filename**, and **mode**. In our case, `mode` is set to `r` for **read**, since we plan to read the file's contents, as opposed to `w` (write), or `a` (append)."
   ]
  },
  {
   "cell_type": "code",
   "execution_count": 2,
   "metadata": {
    "ExecuteTime": {
     "end_time": "2021-03-17T04:53:02.600138Z",
     "start_time": "2021-03-17T04:53:02.586176Z"
    }
   },
   "outputs": [
    {
     "name": "stdout",
     "output_type": "stream",
     "text": [
      "<_io.TextIOWrapper name='tale-of-two-cities.txt' mode='r' encoding='cp1252'>\n"
     ]
    }
   ],
   "source": [
    "# Open Tale of Two Cities\n",
    "# \"r\" is read, \"rw\" is read, write\n",
    "text_file = open(\"tale-of-two-cities.txt\", \"r\")\n",
    "print(text_file)"
   ]
  },
  {
   "cell_type": "markdown",
   "metadata": {},
   "source": [
    "Typically, a text character is **1 byte** in size. One byte is equal to **8 bits**. This means conceptually, the size of a string should be $N$ bytes, where $N$ is the number of characters. However, you'll see that in Python, the size of a string is larger:"
   ]
  },
  {
   "cell_type": "code",
   "execution_count": 3,
   "metadata": {
    "ExecuteTime": {
     "end_time": "2021-03-17T04:53:02.616095Z",
     "start_time": "2021-03-17T04:53:02.602134Z"
    }
   },
   "outputs": [
    {
     "name": "stdout",
     "output_type": "stream",
     "text": [
      "The size of EMPTY_STRING is 51 bytes.\n",
      "The size of ONE_CHAR_STRING is 50 bytes.\n",
      "The size of TWO_CHAR_STRING is 51 bytes.\n"
     ]
    }
   ],
   "source": [
    "import sys\n",
    "EMPTY_STRING = \"\"\n",
    "ONE_CHAR_STRING = \"a\"\n",
    "TWO_CHAR_STRING = \"ab\"\n",
    "print(f\"The size of EMPTY_STRING is {sys.getsizeof(EMPTY_STRING)} bytes.\")\n",
    "print(f\"The size of ONE_CHAR_STRING is {sys.getsizeof(ONE_CHAR_STRING)} bytes.\")\n",
    "print(f\"The size of TWO_CHAR_STRING is {sys.getsizeof(TWO_CHAR_STRING)} bytes.\")"
   ]
  },
  {
   "cell_type": "markdown",
   "metadata": {},
   "source": [
    "Should be 49, 50, 51 (most likely an encoding discrepancy, Python quirk on how they represent empty strings)"
   ]
  },
  {
   "cell_type": "markdown",
   "metadata": {},
   "source": [
    "There is overhead cost for creating a string variable - use the least amount of bytes (Spark can give you out of memory errors when dealing with Big Data)"
   ]
  },
  {
   "cell_type": "markdown",
   "metadata": {},
   "source": [
    "The **`open()`** function returns a **`TextIOWrapper`** object from Python's `io` module, which handles common input/output streaming operations. \n",
    "\n",
    "A **stream** is a potentially infinite sequence of elements (in our case, characters) arriving over time. You'll use streams to model data that is **unbounded** (it's undetermined the volume, the length, and frequency of the data). A stream has a pointer to its current position within the sequence. \n",
    "\n",
    "This object has an extremely helpful **`readline()`** method that reads from a text file until encountering an **`EOF`** marker or a new line symbol."
   ]
  },
  {
   "cell_type": "code",
   "execution_count": 4,
   "metadata": {
    "ExecuteTime": {
     "end_time": "2021-03-17T04:53:02.694884Z",
     "start_time": "2021-03-17T04:53:02.618095Z"
    }
   },
   "outputs": [
    {
     "data": {
      "text/plain": [
       "'  IT WAS the best of times, it was the worst of times, it was the\\n'"
      ]
     },
     "execution_count": 4,
     "metadata": {},
     "output_type": "execute_result"
    }
   ],
   "source": [
    "# each time you run the cell, it goes to the next line\n",
    "# (x) is the number of charactes to get\n",
    "text_file.readline()"
   ]
  },
  {
   "cell_type": "markdown",
   "metadata": {},
   "source": [
    "You can pass in a parameter to **`readline()`** to control how many bytes of input stream data you'll receive. For instance, **`readline(2)`** returns at most 2 bytes of text input data. You might use this, for instance, if your Python application is reading not from a flat text file, but from a socket, which supplies a continuous stream of data with fixed length (ie., the messages all have the same number of characters).\n",
    "\n",
    "**In-Class Question**: *Assume you just opened the text file with **`open()`**. What output is returned when **`text_file.readline(5)`** is called the **second** time?*\n",
    "- **A)** The entire first line of the novel\n",
    "- **B)** The first 5 characters of the second line\n",
    "- **C)** The entire second line of the novel\n",
    "- **D)** The first 5 characters of the first line\n",
    "- **E)** The 6th-10th characters of the first line"
   ]
  },
  {
   "cell_type": "code",
   "execution_count": 5,
   "metadata": {
    "ExecuteTime": {
     "end_time": "2021-03-17T04:53:02.709880Z",
     "start_time": "2021-03-17T04:53:02.695881Z"
    }
   },
   "outputs": [
    {
     "name": "stdout",
     "output_type": "stream",
     "text": [
      "Iteration 1:   IT \n",
      "Iteration 2: WAS t\n"
     ]
    }
   ],
   "source": [
    "text_file.seek(0) #reset the stream position to the start of the text file\n",
    "for i in range(2): # repeat the below line twice\n",
    "    print(f\"Iteration {i + 1}: {text_file.readline(5)}\")"
   ]
  },
  {
   "cell_type": "markdown",
   "metadata": {},
   "source": [
    "Each time that you call **`readline()`**, a position marker within **`TextIOWrapper`** is moved forward:\n",
    "<img src=\"images/readline.png\" width=\"500\" height=\"300\" align=\"center\"/>\n",
    "We typically will use **`readlines()`** instead to read text files line by line. This returns a Python **list**:"
   ]
  },
  {
   "cell_type": "code",
   "execution_count": 6,
   "metadata": {
    "ExecuteTime": {
     "end_time": "2021-03-17T04:53:02.725838Z",
     "start_time": "2021-03-17T04:53:02.710840Z"
    }
   },
   "outputs": [],
   "source": [
    "text_file.seek(0) # reset the stream position to the start of the file\n",
    "lines = text_file.readlines() # read all the lines and return a list of strings"
   ]
  },
  {
   "cell_type": "markdown",
   "metadata": {},
   "source": [
    "We see that there are **12870** lines of text in the novel."
   ]
  },
  {
   "cell_type": "code",
   "execution_count": 7,
   "metadata": {
    "ExecuteTime": {
     "end_time": "2021-03-17T04:53:02.741757Z",
     "start_time": "2021-03-17T04:53:02.727797Z"
    }
   },
   "outputs": [
    {
     "name": "stdout",
     "output_type": "stream",
     "text": [
      "There are 12870 lines in the novel.\n"
     ]
    }
   ],
   "source": [
    "print(f\"There are {len(lines)} lines in the novel.\")"
   ]
  },
  {
   "cell_type": "code",
   "execution_count": 8,
   "metadata": {
    "ExecuteTime": {
     "end_time": "2021-03-17T04:53:02.756752Z",
     "start_time": "2021-03-17T04:53:02.743755Z"
    }
   },
   "outputs": [
    {
     "name": "stdout",
     "output_type": "stream",
     "text": [
      "On average, each line has 58.9 characters.\n"
     ]
    }
   ],
   "source": [
    "total_num_chars = 0\n",
    "for line in lines: # iterate through each line\n",
    "    total_num_chars += len(line) # add the number of characters in a line to the total count of characters\n",
    "\n",
    "avg_chars = round(total_num_chars / len(lines),1) # divide total character count by number of lines to get average\n",
    "print(f\"On average, each line has {avg_chars} characters.\")"
   ]
  },
  {
   "cell_type": "code",
   "execution_count": 9,
   "metadata": {
    "ExecuteTime": {
     "end_time": "2021-03-17T04:53:03.052310Z",
     "start_time": "2021-03-17T04:53:02.758712Z"
    }
   },
   "outputs": [],
   "source": [
    "import matplotlib.pyplot as plt # we are importing the pyplot module from matplotlib, and naming it as plt"
   ]
  },
  {
   "cell_type": "markdown",
   "metadata": {},
   "source": [
    "### An Aside: List Comprehension\n",
    "\n",
    "Sometimes, we need to iterate through a list and perform some sort of operation (sum all the elements, or remove a certain character). The traditional way to do this is using a for loop:\n",
    "\n",
    "```Python\n",
    "lengths = [] # declare an empty list\n",
    "for line in lines: # iterate through each line\n",
    "    lengths.append(len(line)) # add the length of each line to the list\n",
    "```\n",
    "\n",
    "A slightly less verbose way, called **list comprehension**, to write this is\n",
    "\n",
    "```Python\n",
    "lengths = [len(line) for line in lines]\n",
    "```\n",
    "\n",
    "List comprehension is **typically slightly faster**, since it avoids the additional `append()` call for each iteration of the for loop. See this example from StackOverflow:\n",
    "\n",
    "```Python\n",
    "def slower(): # using traditional iteration\n",
    "    result = []\n",
    "    for elem in some_iterable:\n",
    "        result.append(elem)\n",
    "    return result\n",
    "```\n",
    "\n",
    "```Python\n",
    "def faster(): # using list comprehension\n",
    "    return [elem for elem in some_iterable]\n",
    "```\n",
    "\n",
    "Within the Python REPL **(read-eval-print-loop)**:\n",
    "\n",
    "```Python\n",
    ">>> some_iterable = range(1000)\n",
    ">>> import timeit\n",
    ">>> timeit.timeit('f()', 'from __main__ import slower as f', number=10000)\n",
    "1.4456570148468018\n",
    ">>> timeit.timeit('f()', 'from __main__ import faster as f', number=10000)\n",
    "0.49323201179504395\n",
    "```"
   ]
  },
  {
   "cell_type": "markdown",
   "metadata": {},
   "source": [
    "### Visualizing Summary Metrics Using Matplotlib"
   ]
  },
  {
   "cell_type": "code",
   "execution_count": 10,
   "metadata": {
    "ExecuteTime": {
     "end_time": "2021-03-17T04:53:03.269698Z",
     "start_time": "2021-03-17T04:53:03.054132Z"
    }
   },
   "outputs": [
    {
     "data": {
      "image/png": "[encoded data removed]",
      "text/plain": [
       "<Figure size 1080x432 with 1 Axes>"
      ]
     },
     "metadata": {
      "needs_background": "light"
     },
     "output_type": "display_data"
    }
   ],
   "source": [
    "NUM_BINS = 30 # increase this number to make the visualization more granular\n",
    "plt.rcParams[\"figure.figsize\"] = (15,6)\n",
    "plt.hist([len(line) for line in lines], bins=NUM_BINS)\n",
    "plt.title(\"Distribution of Line Lengths in Tale of Two Cities\") # give the plot a title\n",
    "plt.xlabel(\"Number of Characters in Line\") # label the X axis\n",
    "plt.ylabel(\"Count of Lines\") # label the Y axis\n",
    "plt.show()"
   ]
  },
  {
   "cell_type": "markdown",
   "metadata": {},
   "source": [
    "What if now we want to visualize how many times each word appears in the entire novel (for now, we won't worry about **stemming / lemmatization** and other preprocessing steps)?\n",
    "\n",
    "### First Method: Create a Dictionary to Store Word Count\n",
    "\n",
    "Dictionaries in Python have **keys** and **values**. The keys must be unique (no duplicate keys). They can be accessed via the **`keys()`** and **`values()`** methods of a dictionary object.\n"
   ]
  },
  {
   "cell_type": "code",
   "execution_count": 11,
   "metadata": {
    "ExecuteTime": {
     "end_time": "2021-03-17T04:53:03.331849Z",
     "start_time": "2021-03-17T04:53:03.271010Z"
    }
   },
   "outputs": [
    {
     "name": "stdout",
     "output_type": "stream",
     "text": [
      "There's an estimated 143345 words in the novel.\n",
      "There's 21683 unique words in the novel.\n"
     ]
    }
   ],
   "source": [
    "words = [] # create a list of all words\n",
    "word_count = {} # create a dictionary to store word counts\n",
    "\n",
    "for line in lines: # for each line in the novel\n",
    "    for word in line.split(\" \"): # for each word in the line\n",
    "        words.append(word) # add the word to the list of words\n",
    "        \n",
    "        if word not in word_count.keys(): # if the word has not been seen before, add it to the dictionary with initial count of 1\n",
    "            word_count[word] = 1\n",
    "        else:\n",
    "            word_count[word] += 1 # if the word has been seen before, increment its count by 1\n",
    "        \n",
    "print(f\"There's an estimated {len(words)} words in the novel.\")\n",
    "print(f\"There's {len(word_count.keys())} unique words in the novel.\")"
   ]
  },
  {
   "cell_type": "markdown",
   "metadata": {},
   "source": [
    "Let's use Python **`sets`** to check that our dictionary's keys are unique. Remember that a set is a collection of **unique elements**, so calling **`set(words)`** will return only the unique words in our text file."
   ]
  },
  {
   "cell_type": "code",
   "execution_count": 12,
   "metadata": {
    "ExecuteTime": {
     "end_time": "2021-03-17T04:53:03.347845Z",
     "start_time": "2021-03-17T04:53:03.333844Z"
    }
   },
   "outputs": [],
   "source": [
    "# Good practice, data quality checks\n",
    "assert len(word_count.keys()) == len(set(words)), \"This error message will be printed if the assertion to the left is not true.\""
   ]
  },
  {
   "cell_type": "markdown",
   "metadata": {},
   "source": [
    "### Using Python's Built-In Counter\n",
    "\n",
    "Since the task of building a count using a dictionary is a common operation, Python provides a built-in object called `Counter` that we can use:"
   ]
  },
  {
   "cell_type": "code",
   "execution_count": 13,
   "metadata": {
    "ExecuteTime": {
     "end_time": "2021-03-17T04:53:03.363765Z",
     "start_time": "2021-03-17T04:53:03.348803Z"
    }
   },
   "outputs": [],
   "source": [
    "from collections import Counter\n",
    "\n",
    "def count_words(lines, delimiter=\" \"):\n",
    "    \n",
    "    words = Counter() # instantiate a Counter object called words\n",
    "    for line in lines:\n",
    "        for word in line.split(delimiter):\n",
    "            words[word] += 1 # increment count for word\n",
    "    return words"
   ]
  },
  {
   "cell_type": "code",
   "execution_count": 14,
   "metadata": {
    "ExecuteTime": {
     "end_time": "2021-03-17T04:53:03.379747Z",
     "start_time": "2021-03-17T04:53:03.365761Z"
    }
   },
   "outputs": [],
   "source": [
    "from collections import Counter"
   ]
  },
  {
   "cell_type": "code",
   "execution_count": 15,
   "metadata": {
    "ExecuteTime": {
     "end_time": "2021-03-17T04:53:03.395799Z",
     "start_time": "2021-03-17T04:53:03.380745Z"
    }
   },
   "outputs": [],
   "source": [
    "word_counter=Counter(lines[0].split())"
   ]
  },
  {
   "cell_type": "code",
   "execution_count": 16,
   "metadata": {
    "ExecuteTime": {
     "end_time": "2021-03-17T04:53:03.426750Z",
     "start_time": "2021-03-17T04:53:03.401781Z"
    }
   },
   "outputs": [
    {
     "data": {
      "text/plain": [
       "Counter({'IT': 1,\n",
       "         'WAS': 1,\n",
       "         'the': 3,\n",
       "         'best': 1,\n",
       "         'of': 2,\n",
       "         'times,': 2,\n",
       "         'it': 2,\n",
       "         'was': 2,\n",
       "         'worst': 1})"
      ]
     },
     "execution_count": 16,
     "metadata": {},
     "output_type": "execute_result"
    }
   ],
   "source": [
    "word_counter"
   ]
  },
  {
   "cell_type": "markdown",
   "metadata": {},
   "source": [
    "A core principle of software engineering and programming is **DRY**: Don't Repeat Yourself. Since we are likely going to be making many histograms throughout this course, it's best that we create a reusable function."
   ]
  },
  {
   "cell_type": "code",
   "execution_count": 17,
   "metadata": {
    "ExecuteTime": {
     "end_time": "2021-03-17T04:53:03.441712Z",
     "start_time": "2021-03-17T04:53:03.429704Z"
    }
   },
   "outputs": [],
   "source": [
    "def make_histogram(values, title=None,xlabel=None,ylabel=None, bins=30, x_size=15, y_size=6):\n",
    "    plt.rcParams[\"figure.figsize\"] = (x_size,y_size)\n",
    "    plt.hist(values, bins=bins)\n",
    "    \n",
    "    if title:\n",
    "        plt.title(title) # give the plot a title\n",
    "        \n",
    "    if xlabel:\n",
    "        plt.xlabel(xlabel) # label the X axis\n",
    "        \n",
    "    if ylabel:\n",
    "        plt.ylabel(ylabel) # label the Y axis\n",
    "        \n",
    "    plt.show() "
   ]
  },
  {
   "cell_type": "code",
   "execution_count": 18,
   "metadata": {
    "ExecuteTime": {
     "end_time": "2021-03-17T04:53:03.628618Z",
     "start_time": "2021-03-17T04:53:03.443666Z"
    }
   },
   "outputs": [
    {
     "data": {
      "image/png": "[encoded data removed]",
      "text/plain": [
       "<Figure size 1080x432 with 1 Axes>"
      ]
     },
     "metadata": {
      "needs_background": "light"
     },
     "output_type": "display_data"
    }
   ],
   "source": [
    "make_histogram(word_count.values(), \n",
    "               title=\"Distribution of Word Count\",\n",
    "               xlabel=\"Number of Times Word Appears\",\n",
    "               ylabel=\"Number of Unique Words\")"
   ]
  },
  {
   "cell_type": "markdown",
   "metadata": {},
   "source": [
    "### In-Class Question\n",
    "- Why does this distribution look the way it does? (the, is, a... stop words) - delete those, don't give us much signal\n",
    "- What additional steps could be taken to make the results more meaningful?"
   ]
  },
  {
   "cell_type": "code",
   "execution_count": 19,
   "metadata": {
    "ExecuteTime": {
     "end_time": "2021-03-17T04:53:03.876195Z",
     "start_time": "2021-03-17T04:53:03.629600Z"
    }
   },
   "outputs": [
    {
     "data": {
      "text/plain": [
       "{'': 7027,\n",
       " 'IT': 3,\n",
       " 'WAS': 4,\n",
       " 'the': 6634,\n",
       " 'best': 32,\n",
       " 'of': 3623,\n",
       " 'times,': 17,\n",
       " 'it': 1104,\n",
       " 'was': 1558,\n",
       " 'worst': 13,\n",
       " 'the\\n': 729,\n",
       " 'age': 5,\n",
       " 'wisdom,': 2,\n",
       " 'foolishness,': 1,\n",
       " 'epoch': 2,\n",
       " 'of\\n': 321,\n",
       " 'belief,': 2,\n",
       " 'incredulity,': 1,\n",
       " 'season': 5,\n",
       " 'Light,\\n': 1,\n",
       " 'Darkness,': 1,\n",
       " 'spring': 3,\n",
       " 'hope,': 5,\n",
       " 'winter': 8,\n",
       " 'despair,': 2,\n",
       " 'we': 102,\n",
       " 'had': 1177,\n",
       " 'everything': 16,\n",
       " 'before': 170,\n",
       " 'us,': 29,\n",
       " 'nothing\\n': 9,\n",
       " 'were': 577,\n",
       " 'all': 410,\n",
       " 'going': 71,\n",
       " 'direct': 5,\n",
       " 'to': 3145,\n",
       " 'Heaven,': 10,\n",
       " 'going\\n': 3,\n",
       " 'other': 128,\n",
       " 'way-': 8,\n",
       " 'in': 2212,\n",
       " 'short,': 15,\n",
       " 'period': 2,\n",
       " 'so': 374,\n",
       " 'far': 65,\n",
       " 'like': 175,\n",
       " 'present\\n': 7,\n",
       " 'period,': 2,\n",
       " 'that': 1568,\n",
       " 'some': 181,\n",
       " 'its': 197,\n",
       " 'noisiest': 1,\n",
       " 'authorities': 2,\n",
       " 'insisted': 2,\n",
       " 'on': 754,\n",
       " 'being\\n': 8,\n",
       " 'received,': 1,\n",
       " 'for': 811,\n",
       " 'good': 122,\n",
       " 'or': 324,\n",
       " 'evil,': 3,\n",
       " 'superlative': 1,\n",
       " 'degree': 8,\n",
       " 'comparison': 3,\n",
       " 'only.\\n': 1,\n",
       " 'There': 90,\n",
       " 'a': 2561,\n",
       " 'king': 4,\n",
       " 'with': 1163,\n",
       " 'large': 27,\n",
       " 'jaw': 2,\n",
       " 'and': 4318,\n",
       " 'queen': 2,\n",
       " 'plain': 12,\n",
       " 'face,': 42,\n",
       " 'on\\n': 57,\n",
       " 'throne': 3,\n",
       " 'England;': 2,\n",
       " 'there': 265,\n",
       " 'a\\n': 231,\n",
       " 'fair': 16,\n",
       " 'France.': 6,\n",
       " 'In': 88,\n",
       " 'both': 65,\n",
       " 'countries\\n': 2,\n",
       " 'clearer': 1,\n",
       " 'than': 193,\n",
       " 'crystal': 1,\n",
       " 'lords': 5,\n",
       " 'State': 5,\n",
       " 'preserves': 1,\n",
       " 'loaves': 1,\n",
       " 'fishes,': 1,\n",
       " 'things': 40,\n",
       " 'general': 23,\n",
       " 'settled': 5,\n",
       " 'ever.\\n': 5,\n",
       " 'It': 219,\n",
       " 'year': 18,\n",
       " 'Our': 7,\n",
       " 'Lord': 12,\n",
       " 'one': 311,\n",
       " 'thousand': 20,\n",
       " 'seven': 19,\n",
       " 'hundred': 33,\n",
       " 'and\\n': 409,\n",
       " 'seventy-five.': 2,\n",
       " 'Spiritual': 1,\n",
       " 'revelations': 1,\n",
       " 'conceded': 1,\n",
       " 'England': 9,\n",
       " 'at': 897,\n",
       " 'that\\n': 102,\n",
       " 'favoured': 5,\n",
       " 'as': 966,\n",
       " 'this.': 10,\n",
       " 'Mrs.': 17,\n",
       " 'Southcott': 1,\n",
       " 'recently': 2,\n",
       " 'attained\\n': 1,\n",
       " 'her': 747,\n",
       " 'five-and-twentieth': 1,\n",
       " 'blessed': 7,\n",
       " 'birthday,': 2,\n",
       " 'whom': 60,\n",
       " 'prophetic': 1,\n",
       " 'private\\n': 1,\n",
       " 'Life': 5,\n",
       " 'Guards': 3,\n",
       " 'heralded': 1,\n",
       " 'sublime': 2,\n",
       " 'appearance': 22,\n",
       " 'by': 490,\n",
       " 'announcing\\n': 1,\n",
       " 'arrangements': 6,\n",
       " 'made': 161,\n",
       " 'swallowing': 3,\n",
       " 'up': 230,\n",
       " 'London': 9,\n",
       " 'Westminster.': 1,\n",
       " 'Even': 12,\n",
       " 'Cock-lane': 2,\n",
       " 'ghost': 10,\n",
       " 'been': 380,\n",
       " 'laid': 51,\n",
       " 'only': 102,\n",
       " 'round': 51,\n",
       " 'dozen\\n': 2,\n",
       " 'years,': 16,\n",
       " 'after': 99,\n",
       " 'rapping': 1,\n",
       " 'out': 313,\n",
       " 'messages,': 1,\n",
       " 'spirits': 5,\n",
       " 'this\\n': 41,\n",
       " 'very': 194,\n",
       " 'last': 95,\n",
       " 'past': 15,\n",
       " '(supernaturally': 1,\n",
       " 'deficient': 1,\n",
       " 'originality)': 1,\n",
       " 'rapped\\n': 1,\n",
       " 'theirs.': 1,\n",
       " 'Mere': 1,\n",
       " 'messages': 2,\n",
       " 'earthly': 5,\n",
       " 'order': 15,\n",
       " 'events': 6,\n",
       " 'lately\\n': 1,\n",
       " 'come': 109,\n",
       " 'English': 27,\n",
       " 'Crown': 1,\n",
       " 'People,': 1,\n",
       " 'from': 452,\n",
       " 'congress': 1,\n",
       " 'British\\n': 2,\n",
       " 'subjects': 1,\n",
       " 'America:': 1,\n",
       " 'which,': 12,\n",
       " 'strange': 20,\n",
       " 'relate,': 1,\n",
       " 'have': 651,\n",
       " 'proved': 2,\n",
       " 'more\\n': 20,\n",
       " 'important': 4,\n",
       " 'human': 21,\n",
       " 'race': 5,\n",
       " 'any': 194,\n",
       " 'communications': 3,\n",
       " 'yet': 62,\n",
       " 'received\\n': 1,\n",
       " 'through': 139,\n",
       " 'chickens': 1,\n",
       " 'brood.\\n': 1,\n",
       " 'France,': 13,\n",
       " 'less': 29,\n",
       " 'whole': 32,\n",
       " 'matters': 3,\n",
       " 'spiritual': 1,\n",
       " 'than\\n': 21,\n",
       " 'sister': 10,\n",
       " 'shield': 1,\n",
       " 'trident,': 1,\n",
       " 'rolled': 11,\n",
       " 'exceeding': 1,\n",
       " 'smoothness\\n': 1,\n",
       " 'down': 158,\n",
       " 'hill,': 12,\n",
       " 'making': 30,\n",
       " 'paper': 26,\n",
       " 'money': 11,\n",
       " 'spending': 1,\n",
       " 'it.': 107,\n",
       " 'Under': 6,\n",
       " 'guidance': 3,\n",
       " 'Christian': 6,\n",
       " 'pastors,': 1,\n",
       " 'she': 304,\n",
       " 'entertained': 1,\n",
       " 'herself,': 10,\n",
       " 'besides,': 2,\n",
       " 'such\\n': 10,\n",
       " 'humane': 1,\n",
       " 'achievements': 1,\n",
       " 'sentencing': 1,\n",
       " 'youth': 5,\n",
       " 'his': 1754,\n",
       " 'hands': 71,\n",
       " 'cut': 9,\n",
       " 'off,\\n': 3,\n",
       " 'tongue': 3,\n",
       " 'torn': 6,\n",
       " 'pincers,': 1,\n",
       " 'body': 14,\n",
       " 'burned': 1,\n",
       " 'alive,': 4,\n",
       " 'because\\n': 6,\n",
       " 'he': 1285,\n",
       " 'not': 693,\n",
       " 'kneeled': 5,\n",
       " 'rain': 10,\n",
       " 'do': 196,\n",
       " 'honour': 21,\n",
       " 'dirty': 6,\n",
       " 'procession\\n': 1,\n",
       " 'monks': 1,\n",
       " 'which': 356,\n",
       " 'passed': 51,\n",
       " 'within': 48,\n",
       " 'view,': 4,\n",
       " 'distance': 8,\n",
       " 'fifty\\n': 2,\n",
       " 'sixty': 3,\n",
       " 'yards.': 1,\n",
       " 'is': 658,\n",
       " 'likely': 12,\n",
       " 'enough': 44,\n",
       " 'that,': 57,\n",
       " 'rooted': 2,\n",
       " 'woods': 1,\n",
       " 'France': 25,\n",
       " 'Norway,': 1,\n",
       " 'growing': 10,\n",
       " 'trees,': 4,\n",
       " 'when': 339,\n",
       " 'sufferer': 4,\n",
       " 'was\\n': 116,\n",
       " 'put': 100,\n",
       " 'death,': 8,\n",
       " 'already': 33,\n",
       " 'marked': 5,\n",
       " 'Woodman,': 1,\n",
       " 'Fate,': 1,\n",
       " 'be\\n': 66,\n",
       " 'sawn': 1,\n",
       " 'into': 290,\n",
       " 'boards,': 1,\n",
       " 'make': 67,\n",
       " 'certain': 26,\n",
       " 'movable': 1,\n",
       " 'framework': 1,\n",
       " 'sack\\n': 1,\n",
       " 'knife': 6,\n",
       " 'it,': 213,\n",
       " 'terrible': 12,\n",
       " 'history.': 1,\n",
       " 'in\\n': 186,\n",
       " 'rough': 11,\n",
       " 'outhouses': 1,\n",
       " 'tillers': 1,\n",
       " 'heavy': 30,\n",
       " 'lands': 1,\n",
       " 'adjacent': 4,\n",
       " 'to\\n': 253,\n",
       " 'Paris,': 20,\n",
       " 'sheltered': 1,\n",
       " 'weather': 3,\n",
       " 'day,': 60,\n",
       " 'rude\\n': 1,\n",
       " 'carts,': 3,\n",
       " 'bespattered': 1,\n",
       " 'rustic': 4,\n",
       " 'mire,': 1,\n",
       " 'snuffed': 1,\n",
       " 'about': 128,\n",
       " 'pigs,': 1,\n",
       " 'roosted': 1,\n",
       " 'poultry,': 1,\n",
       " 'Farmer,': 2,\n",
       " 'Death,': 4,\n",
       " 'set\\n': 4,\n",
       " 'apart': 8,\n",
       " 'be': 623,\n",
       " 'tumbrils': 9,\n",
       " 'Revolution.': 1,\n",
       " 'But': 63,\n",
       " 'Woodman': 2,\n",
       " 'though': 75,\n",
       " 'they': 412,\n",
       " 'work': 38,\n",
       " 'unceasingly,': 1,\n",
       " 'silently': 9,\n",
       " 'no': 380,\n",
       " 'one\\n': 21,\n",
       " 'heard': 47,\n",
       " 'them': 208,\n",
       " 'went': 93,\n",
       " 'muffled': 4,\n",
       " 'tread:': 1,\n",
       " 'rather,\\n': 1,\n",
       " 'forasmuch': 2,\n",
       " 'entertain': 2,\n",
       " 'suspicion': 9,\n",
       " 'awake,': 4,\n",
       " 'atheistical': 1,\n",
       " 'traitorous.\\n': 1,\n",
       " 'England,': 7,\n",
       " 'scarcely': 16,\n",
       " 'an': 301,\n",
       " 'amount': 1,\n",
       " 'protection\\n': 1,\n",
       " 'justify': 3,\n",
       " 'much': 135,\n",
       " 'national': 8,\n",
       " 'boasting.': 1,\n",
       " 'Daring': 1,\n",
       " 'burglaries': 1,\n",
       " 'armed': 7,\n",
       " 'men,': 18,\n",
       " 'highway': 3,\n",
       " 'robberies,': 1,\n",
       " 'took': 103,\n",
       " 'place': 61,\n",
       " 'capital': 2,\n",
       " 'itself': 29,\n",
       " 'every': 93,\n",
       " 'night;\\n': 1,\n",
       " 'families': 1,\n",
       " 'publicly': 2,\n",
       " 'cautioned': 1,\n",
       " 'go': 97,\n",
       " 'town': 8,\n",
       " 'without\\n': 11,\n",
       " 'removing': 2,\n",
       " 'their': 275,\n",
       " 'furniture': 1,\n",
       " \"upholsterers'\": 1,\n",
       " 'warehouses': 1,\n",
       " 'security;': 1,\n",
       " 'highwayman': 1,\n",
       " 'dark': 59,\n",
       " 'City': 3,\n",
       " 'tradesman': 3,\n",
       " 'light,': 12,\n",
       " 'and,': 51,\n",
       " 'recognised': 4,\n",
       " 'challenged': 1,\n",
       " 'fellow-tradesman': 1,\n",
       " 'stopped': 44,\n",
       " 'character': 10,\n",
       " '\"the': 12,\n",
       " 'Captain,\"': 1,\n",
       " 'gallantly': 1,\n",
       " 'shot': 9,\n",
       " 'him': 481,\n",
       " 'head\\n': 8,\n",
       " 'rode': 7,\n",
       " 'away;': 6,\n",
       " 'mail': 11,\n",
       " 'waylaid': 1,\n",
       " 'robbers,': 1,\n",
       " 'guard\\n': 3,\n",
       " 'three': 75,\n",
       " 'dead,': 11,\n",
       " 'then': 101,\n",
       " 'got': 73,\n",
       " 'dead': 23,\n",
       " 'himself': 143,\n",
       " 'four,': 3,\n",
       " '\"in\\n': 1,\n",
       " 'consequence': 2,\n",
       " 'failure': 2,\n",
       " 'ammunition:\"': 1,\n",
       " 'mail\\n': 1,\n",
       " 'robbed': 3,\n",
       " 'peace;': 1,\n",
       " 'magnificent': 1,\n",
       " 'potentate,': 1,\n",
       " 'Mayor': 1,\n",
       " 'London,': 11,\n",
       " 'stand': 14,\n",
       " 'deliver': 7,\n",
       " 'Turnham': 1,\n",
       " 'Green,': 1,\n",
       " 'highwayman,': 1,\n",
       " 'who': 312,\n",
       " 'despoiled': 1,\n",
       " 'illustrious': 2,\n",
       " 'creature': 17,\n",
       " 'sight': 23,\n",
       " 'his\\n': 164,\n",
       " 'retinue;': 1,\n",
       " 'prisoners': 12,\n",
       " 'gaols': 1,\n",
       " 'fought': 2,\n",
       " 'battles': 1,\n",
       " 'their\\n': 37,\n",
       " 'turkeys,': 1,\n",
       " 'majesty': 2,\n",
       " 'law': 10,\n",
       " 'fired': 5,\n",
       " 'blunderbusses': 1,\n",
       " 'among': 91,\n",
       " 'them,\\n': 4,\n",
       " 'loaded': 6,\n",
       " 'rounds': 2,\n",
       " 'ball;': 1,\n",
       " 'thieves': 1,\n",
       " 'snipped': 1,\n",
       " 'off': 55,\n",
       " 'diamond\\n': 1,\n",
       " 'crosses': 1,\n",
       " 'necks': 1,\n",
       " 'noble': 11,\n",
       " 'Court': 8,\n",
       " 'drawing-rooms;\\n': 1,\n",
       " 'musketeers': 2,\n",
       " 'St.': 7,\n",
       " \"Giles's,\": 1,\n",
       " 'search': 6,\n",
       " 'contraband': 2,\n",
       " 'goods,\\n': 1,\n",
       " 'mob': 1,\n",
       " 'musketeers,': 1,\n",
       " 'fir': 1,\n",
       " 'mob,': 3,\n",
       " 'nobody': 10,\n",
       " 'thought': 45,\n",
       " 'these': 134,\n",
       " 'occurrences': 1,\n",
       " 'common': 16,\n",
       " 'way.': 18,\n",
       " 'midst': 14,\n",
       " 'them,': 86,\n",
       " 'hangman,': 2,\n",
       " 'ever': 84,\n",
       " 'busy': 5,\n",
       " 'ever\\n': 5,\n",
       " 'worse': 9,\n",
       " 'useless,': 2,\n",
       " 'constant': 1,\n",
       " 'requisition;': 1,\n",
       " 'now,': 48,\n",
       " 'stringing': 1,\n",
       " 'up\\n': 13,\n",
       " 'long': 137,\n",
       " 'rows': 1,\n",
       " 'miscellaneous': 1,\n",
       " 'criminals;': 1,\n",
       " 'hanging': 11,\n",
       " 'housebreaker': 1,\n",
       " 'Saturday': 2,\n",
       " 'taken': 66,\n",
       " 'Tuesday;': 1,\n",
       " 'burning': 8,\n",
       " 'people': 88,\n",
       " 'hand': 124,\n",
       " 'Newgate': 2,\n",
       " 'dozen,': 1,\n",
       " 'now': 93,\n",
       " 'pamphlets': 1,\n",
       " 'door': 56,\n",
       " 'Westminster': 1,\n",
       " 'Hall;': 1,\n",
       " 'to-day,': 8,\n",
       " 'taking': 38,\n",
       " 'life': 62,\n",
       " 'atrocious': 1,\n",
       " 'murderer,\\n': 1,\n",
       " 'to-morrow': 8,\n",
       " 'wretched': 11,\n",
       " 'pilferer': 1,\n",
       " \"farmer's\": 2,\n",
       " 'boy\\n': 3,\n",
       " 'sixpence.\\n': 1,\n",
       " 'All': 32,\n",
       " 'things,': 14,\n",
       " 'came': 118,\n",
       " 'pass': 22,\n",
       " 'close': 40,\n",
       " 'upon': 259,\n",
       " 'dear': 77,\n",
       " 'old': 125,\n",
       " 'Environed': 1,\n",
       " 'while': 67,\n",
       " 'Farmer\\n': 1,\n",
       " 'worked': 16,\n",
       " 'unheeded,': 1,\n",
       " 'those': 94,\n",
       " 'two': 145,\n",
       " 'jaws,': 1,\n",
       " 'faces,': 11,\n",
       " 'trod': 5,\n",
       " 'stir': 4,\n",
       " 'enough,': 13,\n",
       " 'carried': 42,\n",
       " 'divine': 2,\n",
       " 'rights': 1,\n",
       " 'high': 33,\n",
       " 'hand.': 15,\n",
       " 'Thus': 9,\n",
       " 'did': 121,\n",
       " 'seven\\n': 2,\n",
       " 'seventy-five': 1,\n",
       " 'conduct': 3,\n",
       " 'Greatnesses,': 1,\n",
       " 'myriads': 1,\n",
       " 'small': 32,\n",
       " 'creatures-': 2,\n",
       " 'creatures': 4,\n",
       " 'this': 390,\n",
       " 'chronicle': 1,\n",
       " 'rest-': 1,\n",
       " 'along\\n': 3,\n",
       " 'roads': 23,\n",
       " 'lay': 58,\n",
       " 'them.\\n': 25,\n",
       " 'II\\n': 3,\n",
       " 'THE': 40,\n",
       " 'MAIL\\n': 1,\n",
       " '\\n': 58,\n",
       " 'Dover': 11,\n",
       " 'road': 19,\n",
       " 'lay,': 2,\n",
       " 'Friday': 4,\n",
       " 'night': 75,\n",
       " 'late': 15,\n",
       " 'November,': 2,\n",
       " 'first': 78,\n",
       " 'persons': 5,\n",
       " 'history': 7,\n",
       " 'has\\n': 13,\n",
       " 'business.': 14,\n",
       " 'The': 489,\n",
       " 'him,': 204,\n",
       " 'beyond': 23,\n",
       " 'mail,': 6,\n",
       " 'as\\n': 62,\n",
       " 'lumbered': 2,\n",
       " \"Shooter's\": 3,\n",
       " 'Hill.': 1,\n",
       " 'He': 350,\n",
       " 'walked': 40,\n",
       " 'hill': 10,\n",
       " 'mire': 1,\n",
       " 'side': 39,\n",
       " 'rest': 18,\n",
       " 'passengers': 12,\n",
       " 'did;': 1,\n",
       " 'least': 14,\n",
       " 'relish': 2,\n",
       " 'walking': 17,\n",
       " 'exercise,': 2,\n",
       " 'under': 122,\n",
       " 'circumstances,': 4,\n",
       " 'but': 367,\n",
       " 'because': 28,\n",
       " 'harness,': 1,\n",
       " 'mud,': 6,\n",
       " 'heavy,': 5,\n",
       " 'horses': 21,\n",
       " 'times': 25,\n",
       " 'already\\n': 4,\n",
       " 'stop,': 1,\n",
       " 'besides': 9,\n",
       " 'once': 52,\n",
       " 'drawing': 17,\n",
       " 'coach': 20,\n",
       " 'across': 32,\n",
       " 'road,': 11,\n",
       " 'with\\n': 82,\n",
       " 'mutinous': 1,\n",
       " 'intent': 14,\n",
       " 'back': 84,\n",
       " 'Blackheath.': 1,\n",
       " 'Reins': 1,\n",
       " 'whip\\n': 1,\n",
       " 'coachman': 4,\n",
       " 'guard,': 10,\n",
       " 'however,': 16,\n",
       " 'combination,': 1,\n",
       " 'read': 21,\n",
       " 'article\\n': 1,\n",
       " 'war': 1,\n",
       " 'forbade': 2,\n",
       " 'purpose': 6,\n",
       " 'otherwise': 12,\n",
       " 'strongly': 9,\n",
       " 'favour': 14,\n",
       " 'argument,': 1,\n",
       " 'brute': 2,\n",
       " 'animals': 1,\n",
       " 'are': 271,\n",
       " 'endued': 1,\n",
       " 'Reason;': 1,\n",
       " 'team\\n': 1,\n",
       " 'capitulated': 1,\n",
       " 'returned': 70,\n",
       " 'duty.\\n': 1,\n",
       " 'With': 33,\n",
       " 'drooping': 4,\n",
       " 'heads': 26,\n",
       " 'tremulous': 2,\n",
       " 'tails,': 1,\n",
       " 'mashed': 1,\n",
       " 'way\\n': 5,\n",
       " 'thick': 4,\n",
       " 'floundering': 1,\n",
       " 'stumbling': 1,\n",
       " 'between': 59,\n",
       " 'whiles,': 2,\n",
       " 'if\\n': 24,\n",
       " 'falling': 6,\n",
       " 'pieces': 9,\n",
       " 'larger': 3,\n",
       " 'joints.': 1,\n",
       " 'As': 94,\n",
       " 'often': 29,\n",
       " 'driver': 3,\n",
       " 'rested': 10,\n",
       " 'brought': 76,\n",
       " 'stand,': 2,\n",
       " 'wary': 2,\n",
       " '\"Wo-ho!\\n': 1,\n",
       " 'so-ho-then!\"': 1,\n",
       " 'near': 37,\n",
       " 'leader': 4,\n",
       " 'violently': 4,\n",
       " 'shook': 27,\n",
       " 'head': 110,\n",
       " 'everything\\n': 3,\n",
       " 'it-': 15,\n",
       " 'unusually': 2,\n",
       " 'emphatic': 4,\n",
       " 'horse,': 5,\n",
       " 'denying': 1,\n",
       " 'coach\\n': 3,\n",
       " 'could': 241,\n",
       " 'hill.': 4,\n",
       " 'Whenever': 1,\n",
       " 'rattle,': 2,\n",
       " 'passenger': 15,\n",
       " 'started,': 4,\n",
       " 'nervous': 2,\n",
       " 'might,': 6,\n",
       " 'disturbed\\n': 1,\n",
       " 'mind.\\n': 6,\n",
       " 'steaming': 1,\n",
       " 'mist': 12,\n",
       " 'hollows,': 1,\n",
       " 'roamed': 1,\n",
       " 'forlornness': 1,\n",
       " 'evil': 4,\n",
       " 'spirit,': 6,\n",
       " 'seeking': 3,\n",
       " 'finding': 3,\n",
       " 'none.': 8,\n",
       " 'A': 99,\n",
       " 'clammy': 1,\n",
       " 'intensely': 3,\n",
       " 'cold': 20,\n",
       " 'mist,': 3,\n",
       " 'slow': 7,\n",
       " 'air': 33,\n",
       " 'ripples': 1,\n",
       " 'visibly': 2,\n",
       " 'followed': 25,\n",
       " 'overspread': 1,\n",
       " 'another,': 16,\n",
       " 'waves': 4,\n",
       " 'unwholesome': 3,\n",
       " 'sea': 15,\n",
       " 'might': 125,\n",
       " 'do.': 5,\n",
       " 'dense\\n': 1,\n",
       " 'shut': 16,\n",
       " 'light': 64,\n",
       " 'coach-lamps': 1,\n",
       " 'but\\n': 22,\n",
       " 'own': 114,\n",
       " 'workings,': 1,\n",
       " 'few': 70,\n",
       " 'yards': 3,\n",
       " 'road;': 1,\n",
       " 'reek': 1,\n",
       " 'labouring': 2,\n",
       " 'steamed': 2,\n",
       " 'if': 307,\n",
       " 'all.\\n': 4,\n",
       " 'Two': 11,\n",
       " 'passengers,': 4,\n",
       " 'one,': 20,\n",
       " 'plodding': 2,\n",
       " 'hill\\n': 1,\n",
       " 'mail.': 2,\n",
       " 'wrapped': 6,\n",
       " 'cheekbones\\n': 1,\n",
       " 'over': 145,\n",
       " 'cars,': 1,\n",
       " 'wore': 18,\n",
       " 'jack-boots.': 1,\n",
       " 'Not': 26,\n",
       " 'could\\n': 19,\n",
       " 'said,': 57,\n",
       " 'anything': 41,\n",
       " 'saw,': 5,\n",
       " 'what': 219,\n",
       " 'either': 22,\n",
       " 'like;': 2,\n",
       " 'each': 23,\n",
       " 'hidden': 10,\n",
       " 'almost': 35,\n",
       " 'many': 114,\n",
       " 'wrappers': 1,\n",
       " 'eyes': 110,\n",
       " 'mind,': 30,\n",
       " 'body,': 4,\n",
       " 'companions.\\n': 2,\n",
       " 'days,': 14,\n",
       " 'travellers': 2,\n",
       " 'shy': 1,\n",
       " 'being': 122,\n",
       " 'confidential': 3,\n",
       " 'short': 20,\n",
       " 'notice,': 4,\n",
       " 'anybody': 7,\n",
       " 'robber': 1,\n",
       " 'league\\n': 1,\n",
       " 'robbers.': 1,\n",
       " 'latter,': 3,\n",
       " 'posting-house': 3,\n",
       " 'ale-house\\n': 1,\n",
       " 'produce': 4,\n",
       " 'somebody': 11,\n",
       " 'Captain\\'s\"': 1,\n",
       " 'pay,': 2,\n",
       " 'ranging': 1,\n",
       " 'landlord': 1,\n",
       " 'lowest': 3,\n",
       " 'stable': 2,\n",
       " 'nondescript,': 1,\n",
       " 'likeliest\\n': 1,\n",
       " 'thing': 30,\n",
       " 'cards.': 1,\n",
       " 'So': 27,\n",
       " 'guard': 18,\n",
       " 'himself,': 35,\n",
       " 'seventy-five,': 2,\n",
       " 'lumbering': 6,\n",
       " 'Hill,': 1,\n",
       " 'stood': 77,\n",
       " 'own\\n': 19,\n",
       " 'particular': 10,\n",
       " 'perch': 1,\n",
       " 'behind': 44,\n",
       " 'beating': 8,\n",
       " 'feet,': 9,\n",
       " 'keeping': 8,\n",
       " 'eye\\n': 7,\n",
       " 'arm-chest': 1,\n",
       " 'where': 123,\n",
       " 'blunderbuss': 2,\n",
       " 'lay\\n': 5,\n",
       " 'top': 14,\n",
       " 'six': 11,\n",
       " 'eight': 13,\n",
       " 'horse-pistols,': 1,\n",
       " 'deposited': 1,\n",
       " 'substratum': 1,\n",
       " 'cutlass.\\n': 1,\n",
       " 'usual': 38,\n",
       " 'genial': 1,\n",
       " 'position': 5,\n",
       " 'suspected': 7,\n",
       " 'another': 86,\n",
       " 'everybody': 8,\n",
       " 'else,': 4,\n",
       " 'sure': 25,\n",
       " 'nothing': 92,\n",
       " 'horses;': 2,\n",
       " 'cattle': 1,\n",
       " 'clear\\n': 2,\n",
       " 'conscience': 2,\n",
       " 'oath': 2,\n",
       " 'Testaments': 1,\n",
       " 'were\\n': 55,\n",
       " 'fit': 8,\n",
       " 'journey.\\n': 1,\n",
       " '\"Wo-ho!\"': 1,\n",
       " 'said': 557,\n",
       " 'coachman.': 1,\n",
       " '\"So,': 2,\n",
       " 'then!': 6,\n",
       " 'One': 25,\n",
       " 'more': 187,\n",
       " 'pull': 6,\n",
       " \"you're\": 7,\n",
       " 'at\\n': 66,\n",
       " 'damned': 1,\n",
       " 'you,': 121,\n",
       " 'I': 1374,\n",
       " 'trouble': 11,\n",
       " 'get': 52,\n",
       " 'you\\n': 46,\n",
       " 'it!-': 1,\n",
       " 'Joe!\"\\n': 1,\n",
       " '\"Halloa!\"': 2,\n",
       " 'replied.\\n': 1,\n",
       " '\"What': 65,\n",
       " \"o'clock\": 9,\n",
       " 'you': 812,\n",
       " 'Joe?\"\\n': 1,\n",
       " '\"Ten': 3,\n",
       " 'minutes,': 8,\n",
       " 'good,': 11,\n",
       " 'eleven.\"\\n': 1,\n",
       " '\"My': 37,\n",
       " 'blood!\"': 1,\n",
       " 'ejaculated': 1,\n",
       " 'vexed': 2,\n",
       " 'coachman,': 3,\n",
       " '\"and': 38,\n",
       " 'atop': 1,\n",
       " 'yet!': 1,\n",
       " 'Tst!': 4,\n",
       " 'Yah!': 2,\n",
       " 'Get': 3,\n",
       " 'you!\"\\n': 10,\n",
       " 'whip': 1,\n",
       " 'most': 58,\n",
       " 'decided\\n': 1,\n",
       " 'negative,': 1,\n",
       " 'decided': 4,\n",
       " 'scramble': 1,\n",
       " 'horses\\n': 2,\n",
       " 'suit.': 1,\n",
       " 'Once': 5,\n",
       " 'more,': 16,\n",
       " 'struggled': 5,\n",
       " 'on,': 37,\n",
       " 'jack-boots': 1,\n",
       " 'squashing': 1,\n",
       " 'along': 28,\n",
       " 'side.': 7,\n",
       " 'They': 87,\n",
       " 'had\\n': 92,\n",
       " 'stopped,': 6,\n",
       " 'kept': 34,\n",
       " 'company': 10,\n",
       " 'it.\\n': 39,\n",
       " 'If': 63,\n",
       " 'hardihood': 1,\n",
       " 'propose': 3,\n",
       " 'walk': 9,\n",
       " 'little': 226,\n",
       " 'ahead': 1,\n",
       " 'darkness,': 10,\n",
       " 'would': 307,\n",
       " 'put\\n': 7,\n",
       " 'way': 91,\n",
       " 'getting': 16,\n",
       " 'instantly': 3,\n",
       " 'highwayman.\\n': 1,\n",
       " 'burst': 7,\n",
       " 'summit': 3,\n",
       " 'The\\n': 41,\n",
       " 'breathe': 3,\n",
       " 'again,': 76,\n",
       " 'skid': 1,\n",
       " 'wheel': 1,\n",
       " 'descent,': 3,\n",
       " 'open': 31,\n",
       " 'coach-door': 3,\n",
       " 'let': 58,\n",
       " 'passengers\\n': 1,\n",
       " 'in.\\n': 7,\n",
       " '\"Tst!': 1,\n",
       " 'Joe!\"': 1,\n",
       " 'cried': 41,\n",
       " 'warning': 2,\n",
       " 'voice,': 32,\n",
       " 'looking': 105,\n",
       " 'from\\n': 39,\n",
       " 'box.\\n': 1,\n",
       " 'say,': 33,\n",
       " 'Tom?\"\\n': 2,\n",
       " 'listened.\\n': 1,\n",
       " '\"I': 399,\n",
       " 'say': 90,\n",
       " 'horse': 15,\n",
       " 'canter': 1,\n",
       " 'coming': 38,\n",
       " 'up,': 40,\n",
       " 'Joe.\"\\n': 4,\n",
       " 'gallop,': 2,\n",
       " 'Tom,\"': 1,\n",
       " 'leaving': 12,\n",
       " 'hold': 36,\n",
       " 'door,': 33,\n",
       " 'mounting': 1,\n",
       " 'nimbly': 2,\n",
       " 'place.': 9,\n",
       " '\"Gentlemen!': 1,\n",
       " \"king's\": 3,\n",
       " 'name,': 14,\n",
       " 'hurried': 15,\n",
       " 'adjuration,': 1,\n",
       " 'cocked': 2,\n",
       " 'blunderbuss,': 2,\n",
       " 'stood\\n': 5,\n",
       " 'offensive.\\n': 2,\n",
       " 'booked': 2,\n",
       " 'history,': 2,\n",
       " 'coach-step,': 1,\n",
       " 'getting\\n': 2,\n",
       " 'in;': 4,\n",
       " 'follow.': 3,\n",
       " 'remained': 19,\n",
       " 'step,': 5,\n",
       " 'half': 50,\n",
       " 'of;\\n': 1,\n",
       " 'below': 3,\n",
       " 'him.': 79,\n",
       " 'looked': 172,\n",
       " 'coachman\\n': 1,\n",
       " 'listened.': 1,\n",
       " 'back,': 28,\n",
       " 'even': 105,\n",
       " 'pricked': 2,\n",
       " 'ears': 8,\n",
       " 'contradicting.\\n': 1,\n",
       " 'stillness': 5,\n",
       " 'consequent': 2,\n",
       " 'cessation': 2,\n",
       " 'rumbling': 1,\n",
       " 'coach,': 11,\n",
       " 'added': 18,\n",
       " 'night,': 58,\n",
       " 'it\\n': 70,\n",
       " 'quiet': 24,\n",
       " 'indeed.': 3,\n",
       " 'panting': 1,\n",
       " 'communicated': 5,\n",
       " 'motion': 3,\n",
       " 'state': 34,\n",
       " 'agitation.': 2,\n",
       " 'hearts': 6,\n",
       " 'beat': 9,\n",
       " 'loud': 12,\n",
       " 'perhaps': 24,\n",
       " 'heard;': 1,\n",
       " 'rate,': 1,\n",
       " 'pause': 8,\n",
       " 'audibly': 1,\n",
       " 'expressive': 5,\n",
       " 'breath,': 7,\n",
       " 'holding': 9,\n",
       " 'having': 57,\n",
       " 'pulses\\n': 1,\n",
       " 'quickened': 2,\n",
       " 'expectation.\\n': 1,\n",
       " 'sound': 31,\n",
       " 'gallop': 3,\n",
       " 'fast': 16,\n",
       " 'furiously': 1,\n",
       " 'hill.\\n': 4,\n",
       " '\"So-ho!\"': 1,\n",
       " 'sang': 2,\n",
       " 'out,': 54,\n",
       " 'roar.': 2,\n",
       " ...}"
      ]
     },
     "execution_count": 19,
     "metadata": {},
     "output_type": "execute_result"
    }
   ],
   "source": [
    "import pandas as pd # output the results to a dataframe\n",
    "word_count_df = pd.DataFrame(columns=[\"word\", \"frequency\"]) # create a dataframe with two columns, word and frequency\n",
    "word_count"
   ]
  },
  {
   "cell_type": "code",
   "execution_count": 20,
   "metadata": {
    "ExecuteTime": {
     "end_time": "2021-03-17T04:53:03.922117Z",
     "start_time": "2021-03-17T04:53:03.878191Z"
    }
   },
   "outputs": [],
   "source": [
    "word_count_df[\"word\"] = list(word_count.keys())\n",
    "word_count_df[\"frequency\"] = list(word_count.values())\n",
    "word_count_df.to_csv(\"dickens_word_count.csv\",index=False) # saves to an outputs folder - if you don't have one, Python will throw an error"
   ]
  },
  {
   "cell_type": "markdown",
   "metadata": {},
   "source": [
    "Get rid of punctuations, convert words to all upper or all lower (combines the counts)"
   ]
  },
  {
   "cell_type": "markdown",
   "metadata": {},
   "source": [
    "## Zipf's Law\n",
    "\n",
    "### General Definition\n",
    "\n",
    "Zipf's Law states that for `N` words, the `k`th most frequent word will appear with a normalized frequency equal to\n",
    "\n",
    "<figure>\n",
    "  <img src=\"images/zipf.svg\" alt=\"my alt text\"/>\n",
    "</figure>\n",
    "\n",
    "The parameter $s$ is an exponent that defines the behavior of the distribution. Traditionally, in natural language, $s = 1$.\n",
    "\n",
    "<figure>\n",
    "  <img src=\"images/zip_languages.png\" alt=\"my alt text\"/>\n",
    "  <figcaption><i>Stefan Evert, http://zipfr.r-forge.r-project.org/materials/LREC2018/tutorial_lrec2018.handout.pdf</i></figcaption>\n",
    "</figure>\n",
    "\n",
    "\n",
    "### Approximation in NLP\n",
    "\n",
    "If $t_1$ is the most common word in a collection of text, and $t_2$ is the next most common word, then the frequency of the $i$th most common word is proportional to $\\frac{1}{i}$. The approximation we'll use specifically for natural languages is\n",
    "\n",
    "$$\n",
    "f(t_i) = \\frac{0.1}{i^\\alpha}\n",
    "$$\n",
    "\n",
    "$\\alpha = 1$.\n",
    "\n",
    "To represent the frequency of a word in a body of text.\n",
    "\n",
    "In human language, there are **a few high-frequency words and many low-frequency words**. What does this mean in terms of machine learning / data modelling?\n",
    "\n",
    "* In many cases, the high frequency words do not carry much value in terms of predictive power or signal. These are frequently **stopwords** that must be removed / otherwise feature-engineered."
   ]
  },
  {
   "cell_type": "markdown",
   "metadata": {},
   "source": [
    "### Zipf Distributions\n",
    "\n",
    "There is a distribution known as the **Zipf Distribution**, and it even has its own [implementation in Numpy](https://numpy.org/doc/stable/reference/random/generated/numpy.random.zipf.html). In this following example, we generate a random sample of 1000 numbers and plot them:"
   ]
  },
  {
   "cell_type": "code",
   "execution_count": 21,
   "metadata": {
    "ExecuteTime": {
     "end_time": "2021-03-17T04:53:04.172564Z",
     "start_time": "2021-03-17T04:53:03.924068Z"
    }
   },
   "outputs": [
    {
     "data": {
      "image/png": "[encoded data removed]",
      "text/plain": [
       "<Figure size 1080x432 with 1 Axes>"
      ]
     },
     "metadata": {
      "needs_background": "light"
     },
     "output_type": "display_data"
    }
   ],
   "source": [
    "import numpy as np\n",
    "from matplotlib import pyplot as plt\n",
    "a = 2\n",
    "\n",
    "counts = np.random.zipf(a, 1000)\n",
    "count, bins, ignored = plt.hist(counts[counts<100], 100, density=True)"
   ]
  },
  {
   "cell_type": "markdown",
   "metadata": {},
   "source": [
    "# Regular Expressions"
   ]
  },
  {
   "cell_type": "code",
   "execution_count": 22,
   "metadata": {
    "ExecuteTime": {
     "end_time": "2021-03-17T04:53:04.203426Z",
     "start_time": "2021-03-17T04:53:04.182486Z"
    }
   },
   "outputs": [
    {
     "data": {
      "text/html": [
       "<div>\n",
       "<style scoped>\n",
       "    .dataframe tbody tr th:only-of-type {\n",
       "        vertical-align: middle;\n",
       "    }\n",
       "\n",
       "    .dataframe tbody tr th {\n",
       "        vertical-align: top;\n",
       "    }\n",
       "\n",
       "    .dataframe thead th {\n",
       "        text-align: right;\n",
       "    }\n",
       "</style>\n",
       "<table border=\"1\" class=\"dataframe\">\n",
       "  <thead>\n",
       "    <tr style=\"text-align: right;\">\n",
       "      <th></th>\n",
       "      <th>word</th>\n",
       "      <th>frequency</th>\n",
       "    </tr>\n",
       "  </thead>\n",
       "  <tbody>\n",
       "    <tr>\n",
       "      <th>0</th>\n",
       "      <td></td>\n",
       "      <td>7027</td>\n",
       "    </tr>\n",
       "    <tr>\n",
       "      <th>3</th>\n",
       "      <td>the</td>\n",
       "      <td>6634</td>\n",
       "    </tr>\n",
       "    <tr>\n",
       "      <th>71</th>\n",
       "      <td>and</td>\n",
       "      <td>4318</td>\n",
       "    </tr>\n",
       "    <tr>\n",
       "      <th>5</th>\n",
       "      <td>of</td>\n",
       "      <td>3623</td>\n",
       "    </tr>\n",
       "    <tr>\n",
       "      <th>35</th>\n",
       "      <td>to</td>\n",
       "      <td>3145</td>\n",
       "    </tr>\n",
       "  </tbody>\n",
       "</table>\n",
       "</div>"
      ],
      "text/plain": [
       "   word  frequency\n",
       "0             7027\n",
       "3   the       6634\n",
       "71  and       4318\n",
       "5    of       3623\n",
       "35   to       3145"
      ]
     },
     "execution_count": 22,
     "metadata": {},
     "output_type": "execute_result"
    }
   ],
   "source": [
    "# get the top stopwords\n",
    "word_count_df.sort_values(by=[\"frequency\"], ascending=False).head(5)"
   ]
  },
  {
   "cell_type": "code",
   "execution_count": 23,
   "metadata": {
    "ExecuteTime": {
     "end_time": "2021-03-17T04:53:04.500029Z",
     "start_time": "2021-03-17T04:53:04.206419Z"
    }
   },
   "outputs": [],
   "source": [
    "import re\n",
    "\n",
    "SAMPLE_TWEET = '''\n",
    "#wolfram Alpha SUCKS! Even for researchers the information provided is less than you can get from \n",
    "#google or #wikipedia, totally useless! Avoid Wolfram at all costs, #ScrewWolframProducts\"\n",
    "'''\n",
    "\n",
    "# create a dataframe version of Dickens' novel\n",
    "dickens_text_df = pd.DataFrame( open(\"tale-of-two-cities.txt\", \"r\"), columns=[\"line\"])\n",
    "dickens_text_df[\"line\"] = dickens_text_df[\"line\"].str.replace(\"\\n\", \"\")"
   ]
  },
  {
   "cell_type": "code",
   "execution_count": 24,
   "metadata": {
    "ExecuteTime": {
     "end_time": "2021-03-17T04:53:04.515020Z",
     "start_time": "2021-03-17T04:53:04.502024Z"
    }
   },
   "outputs": [
    {
     "data": {
      "text/html": [
       "<div>\n",
       "<style scoped>\n",
       "    .dataframe tbody tr th:only-of-type {\n",
       "        vertical-align: middle;\n",
       "    }\n",
       "\n",
       "    .dataframe tbody tr th {\n",
       "        vertical-align: top;\n",
       "    }\n",
       "\n",
       "    .dataframe thead th {\n",
       "        text-align: right;\n",
       "    }\n",
       "</style>\n",
       "<table border=\"1\" class=\"dataframe\">\n",
       "  <thead>\n",
       "    <tr style=\"text-align: right;\">\n",
       "      <th></th>\n",
       "      <th>line</th>\n",
       "    </tr>\n",
       "  </thead>\n",
       "  <tbody>\n",
       "    <tr>\n",
       "      <th>0</th>\n",
       "      <td>IT WAS the best of times, it was the worst o...</td>\n",
       "    </tr>\n",
       "    <tr>\n",
       "      <th>1</th>\n",
       "      <td>age of wisdom, it was the age of foolishness, ...</td>\n",
       "    </tr>\n",
       "    <tr>\n",
       "      <th>2</th>\n",
       "      <td>belief, it was the epoch of incredulity, it wa...</td>\n",
       "    </tr>\n",
       "    <tr>\n",
       "      <th>3</th>\n",
       "      <td>it was the season of Darkness, it was the spri...</td>\n",
       "    </tr>\n",
       "    <tr>\n",
       "      <th>4</th>\n",
       "      <td>winter of despair, we had everything before us...</td>\n",
       "    </tr>\n",
       "    <tr>\n",
       "      <th>...</th>\n",
       "      <td>...</td>\n",
       "    </tr>\n",
       "    <tr>\n",
       "      <th>12865</th>\n",
       "      <td>hear him tell the child my story, with a tende...</td>\n",
       "    </tr>\n",
       "    <tr>\n",
       "      <th>12866</th>\n",
       "      <td>\"It is a far, far better thing that I do, th...</td>\n",
       "    </tr>\n",
       "    <tr>\n",
       "      <th>12867</th>\n",
       "      <td>it is a far, far better rest that I go to than...</td>\n",
       "    </tr>\n",
       "    <tr>\n",
       "      <th>12868</th>\n",
       "      <td></td>\n",
       "    </tr>\n",
       "    <tr>\n",
       "      <th>12869</th>\n",
       "      <td>-THE END-</td>\n",
       "    </tr>\n",
       "  </tbody>\n",
       "</table>\n",
       "<p>12870 rows × 1 columns</p>\n",
       "</div>"
      ],
      "text/plain": [
       "                                                    line\n",
       "0        IT WAS the best of times, it was the worst o...\n",
       "1      age of wisdom, it was the age of foolishness, ...\n",
       "2      belief, it was the epoch of incredulity, it wa...\n",
       "3      it was the season of Darkness, it was the spri...\n",
       "4      winter of despair, we had everything before us...\n",
       "...                                                  ...\n",
       "12865  hear him tell the child my story, with a tende...\n",
       "12866    \"It is a far, far better thing that I do, th...\n",
       "12867  it is a far, far better rest that I go to than...\n",
       "12868                                                   \n",
       "12869                                          -THE END-\n",
       "\n",
       "[12870 rows x 1 columns]"
      ]
     },
     "execution_count": 24,
     "metadata": {},
     "output_type": "execute_result"
    }
   ],
   "source": [
    "dickens_text_df"
   ]
  },
  {
   "cell_type": "markdown",
   "metadata": {},
   "source": [
    "### Match the first time a capital letter appears in the tweet"
   ]
  },
  {
   "cell_type": "code",
   "execution_count": 25,
   "metadata": {
    "ExecuteTime": {
     "end_time": "2021-03-17T04:53:04.530981Z",
     "start_time": "2021-03-17T04:53:04.516986Z"
    }
   },
   "outputs": [
    {
     "data": {
      "text/plain": [
       "'A'"
      ]
     },
     "execution_count": 25,
     "metadata": {},
     "output_type": "execute_result"
    }
   ],
   "source": [
    "# group gives you the result\n",
    "match = re.search(\"[A-Z]\", SAMPLE_TWEET)\n",
    "match.group()"
   ]
  },
  {
   "cell_type": "code",
   "execution_count": 26,
   "metadata": {
    "ExecuteTime": {
     "end_time": "2021-03-17T04:53:04.546931Z",
     "start_time": "2021-03-17T04:53:04.532977Z"
    }
   },
   "outputs": [
    {
     "data": {
      "text/plain": [
       "<re.Match object; span=(10, 11), match='A'>"
      ]
     },
     "execution_count": 26,
     "metadata": {},
     "output_type": "execute_result"
    }
   ],
   "source": [
    "match"
   ]
  },
  {
   "cell_type": "markdown",
   "metadata": {},
   "source": [
    "### Match all capital letters that appears in the tweet"
   ]
  },
  {
   "cell_type": "code",
   "execution_count": 27,
   "metadata": {
    "ExecuteTime": {
     "end_time": "2021-03-17T04:53:04.562865Z",
     "start_time": "2021-03-17T04:53:04.548899Z"
    }
   },
   "outputs": [
    {
     "data": {
      "text/plain": [
       "['A', 'S', 'U', 'C', 'K', 'S', 'E', 'A', 'W', 'S', 'W', 'P']"
      ]
     },
     "execution_count": 27,
     "metadata": {},
     "output_type": "execute_result"
    }
   ],
   "source": [
    "# re\n",
    "re.findall(\"[A-Z]\", SAMPLE_TWEET)"
   ]
  },
  {
   "cell_type": "code",
   "execution_count": 28,
   "metadata": {
    "ExecuteTime": {
     "end_time": "2021-03-17T04:53:04.577824Z",
     "start_time": "2021-03-17T04:53:04.564856Z"
    }
   },
   "outputs": [
    {
     "data": {
      "text/plain": [
       "['w',\n",
       " 'o',\n",
       " 'l',\n",
       " 'f',\n",
       " 'r',\n",
       " 'a',\n",
       " 'm',\n",
       " 'l',\n",
       " 'p',\n",
       " 'h',\n",
       " 'a',\n",
       " 'v',\n",
       " 'e',\n",
       " 'n',\n",
       " 'f',\n",
       " 'o',\n",
       " 'r',\n",
       " 'r',\n",
       " 'e',\n",
       " 's',\n",
       " 'e',\n",
       " 'a',\n",
       " 'r',\n",
       " 'c',\n",
       " 'h',\n",
       " 'e',\n",
       " 'r',\n",
       " 's',\n",
       " 't',\n",
       " 'h',\n",
       " 'e',\n",
       " 'i',\n",
       " 'n',\n",
       " 'f',\n",
       " 'o',\n",
       " 'r',\n",
       " 'm',\n",
       " 'a',\n",
       " 't',\n",
       " 'i',\n",
       " 'o',\n",
       " 'n',\n",
       " 'p',\n",
       " 'r',\n",
       " 'o',\n",
       " 'v',\n",
       " 'i',\n",
       " 'd',\n",
       " 'e',\n",
       " 'd',\n",
       " 'i',\n",
       " 's',\n",
       " 'l',\n",
       " 'e',\n",
       " 's',\n",
       " 's',\n",
       " 't',\n",
       " 'h',\n",
       " 'a',\n",
       " 'n',\n",
       " 'y',\n",
       " 'o',\n",
       " 'u',\n",
       " 'c',\n",
       " 'a',\n",
       " 'n',\n",
       " 'g',\n",
       " 'e',\n",
       " 't',\n",
       " 'f',\n",
       " 'r',\n",
       " 'o',\n",
       " 'm',\n",
       " 'g',\n",
       " 'o',\n",
       " 'o',\n",
       " 'g',\n",
       " 'l',\n",
       " 'e',\n",
       " 'o',\n",
       " 'r',\n",
       " 'w',\n",
       " 'i',\n",
       " 'k',\n",
       " 'i',\n",
       " 'p',\n",
       " 'e',\n",
       " 'd',\n",
       " 'i',\n",
       " 'a',\n",
       " 't',\n",
       " 'o',\n",
       " 't',\n",
       " 'a',\n",
       " 'l',\n",
       " 'l',\n",
       " 'y',\n",
       " 'u',\n",
       " 's',\n",
       " 'e',\n",
       " 'l',\n",
       " 'e',\n",
       " 's',\n",
       " 's',\n",
       " 'v',\n",
       " 'o',\n",
       " 'i',\n",
       " 'd',\n",
       " 'o',\n",
       " 'l',\n",
       " 'f',\n",
       " 'r',\n",
       " 'a',\n",
       " 'm',\n",
       " 'a',\n",
       " 't',\n",
       " 'a',\n",
       " 'l',\n",
       " 'l',\n",
       " 'c',\n",
       " 'o',\n",
       " 's',\n",
       " 't',\n",
       " 's',\n",
       " 'c',\n",
       " 'r',\n",
       " 'e',\n",
       " 'w',\n",
       " 'o',\n",
       " 'l',\n",
       " 'f',\n",
       " 'r',\n",
       " 'a',\n",
       " 'm',\n",
       " 'r',\n",
       " 'o',\n",
       " 'd',\n",
       " 'u',\n",
       " 'c',\n",
       " 't',\n",
       " 's']"
      ]
     },
     "execution_count": 28,
     "metadata": {},
     "output_type": "execute_result"
    }
   ],
   "source": [
    "re.findall(\"[a-z]\", SAMPLE_TWEET)"
   ]
  },
  {
   "cell_type": "code",
   "execution_count": 29,
   "metadata": {
    "ExecuteTime": {
     "end_time": "2021-03-17T04:53:04.593780Z",
     "start_time": "2021-03-17T04:53:04.580815Z"
    }
   },
   "outputs": [
    {
     "data": {
      "text/plain": [
       "[]"
      ]
     },
     "execution_count": 29,
     "metadata": {},
     "output_type": "execute_result"
    }
   ],
   "source": [
    "re.findall(\"z\", SAMPLE_TWEET)"
   ]
  },
  {
   "cell_type": "code",
   "execution_count": 30,
   "metadata": {
    "ExecuteTime": {
     "end_time": "2021-03-17T04:53:04.608780Z",
     "start_time": "2021-03-17T04:53:04.596771Z"
    }
   },
   "outputs": [
    {
     "data": {
      "text/plain": [
       "['SUCKS']"
      ]
     },
     "execution_count": 30,
     "metadata": {},
     "output_type": "execute_result"
    }
   ],
   "source": [
    "re.findall(\"[A-Z]{2,}\", SAMPLE_TWEET)"
   ]
  },
  {
   "cell_type": "code",
   "execution_count": 31,
   "metadata": {
    "ExecuteTime": {
     "end_time": "2021-03-17T04:53:04.624736Z",
     "start_time": "2021-03-17T04:53:04.610771Z"
    }
   },
   "outputs": [
    {
     "data": {
      "text/plain": [
       "['wolfram',\n",
       " 'lpha',\n",
       " 'ven',\n",
       " 'for',\n",
       " 'researchers',\n",
       " 'the',\n",
       " 'information',\n",
       " 'provided',\n",
       " 'is',\n",
       " 'less',\n",
       " 'than',\n",
       " 'you',\n",
       " 'can',\n",
       " 'get',\n",
       " 'from',\n",
       " 'google',\n",
       " 'or',\n",
       " 'wikipedia',\n",
       " 'totally',\n",
       " 'useless',\n",
       " 'void',\n",
       " 'olfram',\n",
       " 'at',\n",
       " 'all',\n",
       " 'costs',\n",
       " 'crew',\n",
       " 'olfram',\n",
       " 'roducts']"
      ]
     },
     "execution_count": 31,
     "metadata": {},
     "output_type": "execute_result"
    }
   ],
   "source": [
    "re.findall(\"[a-z]+\", SAMPLE_TWEET)"
   ]
  },
  {
   "cell_type": "code",
   "execution_count": 32,
   "metadata": {
    "ExecuteTime": {
     "end_time": "2021-03-17T04:53:04.701525Z",
     "start_time": "2021-03-17T04:53:04.626733Z"
    }
   },
   "outputs": [
    {
     "data": {
      "text/html": [
       "<div>\n",
       "<style scoped>\n",
       "    .dataframe tbody tr th:only-of-type {\n",
       "        vertical-align: middle;\n",
       "    }\n",
       "\n",
       "    .dataframe tbody tr th {\n",
       "        vertical-align: top;\n",
       "    }\n",
       "\n",
       "    .dataframe thead th {\n",
       "        text-align: right;\n",
       "    }\n",
       "</style>\n",
       "<table border=\"1\" class=\"dataframe\">\n",
       "  <thead>\n",
       "    <tr style=\"text-align: right;\">\n",
       "      <th></th>\n",
       "      <th>0</th>\n",
       "    </tr>\n",
       "  </thead>\n",
       "  <tbody>\n",
       "    <tr>\n",
       "      <th>0</th>\n",
       "      <td>I</td>\n",
       "    </tr>\n",
       "    <tr>\n",
       "      <th>1</th>\n",
       "      <td>NaN</td>\n",
       "    </tr>\n",
       "    <tr>\n",
       "      <th>2</th>\n",
       "      <td>L</td>\n",
       "    </tr>\n",
       "    <tr>\n",
       "      <th>3</th>\n",
       "      <td>D</td>\n",
       "    </tr>\n",
       "    <tr>\n",
       "      <th>4</th>\n",
       "      <td>NaN</td>\n",
       "    </tr>\n",
       "    <tr>\n",
       "      <th>...</th>\n",
       "      <td>...</td>\n",
       "    </tr>\n",
       "    <tr>\n",
       "      <th>12865</th>\n",
       "      <td>NaN</td>\n",
       "    </tr>\n",
       "    <tr>\n",
       "      <th>12866</th>\n",
       "      <td>I</td>\n",
       "    </tr>\n",
       "    <tr>\n",
       "      <th>12867</th>\n",
       "      <td>I</td>\n",
       "    </tr>\n",
       "    <tr>\n",
       "      <th>12868</th>\n",
       "      <td>NaN</td>\n",
       "    </tr>\n",
       "    <tr>\n",
       "      <th>12869</th>\n",
       "      <td>T</td>\n",
       "    </tr>\n",
       "  </tbody>\n",
       "</table>\n",
       "<p>12870 rows × 1 columns</p>\n",
       "</div>"
      ],
      "text/plain": [
       "         0\n",
       "0        I\n",
       "1      NaN\n",
       "2        L\n",
       "3        D\n",
       "4      NaN\n",
       "...    ...\n",
       "12865  NaN\n",
       "12866    I\n",
       "12867    I\n",
       "12868  NaN\n",
       "12869    T\n",
       "\n",
       "[12870 rows x 1 columns]"
      ]
     },
     "execution_count": 32,
     "metadata": {},
     "output_type": "execute_result"
    }
   ],
   "source": [
    "# need to have those () outside the [] - extract, need to use str to use regex (re???)\n",
    "dickens_text_df['line'].str.extract('([A-Z])')"
   ]
  },
  {
   "cell_type": "code",
   "execution_count": 33,
   "metadata": {
    "ExecuteTime": {
     "end_time": "2021-03-17T04:53:04.810207Z",
     "start_time": "2021-03-17T04:53:04.703494Z"
    }
   },
   "outputs": [
    {
     "data": {
      "text/html": [
       "<div>\n",
       "<style scoped>\n",
       "    .dataframe tbody tr th:only-of-type {\n",
       "        vertical-align: middle;\n",
       "    }\n",
       "\n",
       "    .dataframe tbody tr th {\n",
       "        vertical-align: top;\n",
       "    }\n",
       "\n",
       "    .dataframe thead th {\n",
       "        text-align: right;\n",
       "    }\n",
       "</style>\n",
       "<table border=\"1\" class=\"dataframe\">\n",
       "  <thead>\n",
       "    <tr style=\"text-align: right;\">\n",
       "      <th></th>\n",
       "      <th></th>\n",
       "      <th>0</th>\n",
       "    </tr>\n",
       "    <tr>\n",
       "      <th></th>\n",
       "      <th>match</th>\n",
       "      <th></th>\n",
       "    </tr>\n",
       "  </thead>\n",
       "  <tbody>\n",
       "    <tr>\n",
       "      <th rowspan=\"5\" valign=\"top\">0</th>\n",
       "      <th>0</th>\n",
       "      <td>I</td>\n",
       "    </tr>\n",
       "    <tr>\n",
       "      <th>1</th>\n",
       "      <td>T</td>\n",
       "    </tr>\n",
       "    <tr>\n",
       "      <th>2</th>\n",
       "      <td>W</td>\n",
       "    </tr>\n",
       "    <tr>\n",
       "      <th>3</th>\n",
       "      <td>A</td>\n",
       "    </tr>\n",
       "    <tr>\n",
       "      <th>4</th>\n",
       "      <td>S</td>\n",
       "    </tr>\n",
       "    <tr>\n",
       "      <th>...</th>\n",
       "      <th>...</th>\n",
       "      <td>...</td>\n",
       "    </tr>\n",
       "    <tr>\n",
       "      <th rowspan=\"5\" valign=\"top\">12869</th>\n",
       "      <th>1</th>\n",
       "      <td>H</td>\n",
       "    </tr>\n",
       "    <tr>\n",
       "      <th>2</th>\n",
       "      <td>E</td>\n",
       "    </tr>\n",
       "    <tr>\n",
       "      <th>3</th>\n",
       "      <td>E</td>\n",
       "    </tr>\n",
       "    <tr>\n",
       "      <th>4</th>\n",
       "      <td>N</td>\n",
       "    </tr>\n",
       "    <tr>\n",
       "      <th>5</th>\n",
       "      <td>D</td>\n",
       "    </tr>\n",
       "  </tbody>\n",
       "</table>\n",
       "<p>15772 rows × 1 columns</p>\n",
       "</div>"
      ],
      "text/plain": [
       "             0\n",
       "      match   \n",
       "0     0      I\n",
       "      1      T\n",
       "      2      W\n",
       "      3      A\n",
       "      4      S\n",
       "...         ..\n",
       "12869 1      H\n",
       "      2      E\n",
       "      3      E\n",
       "      4      N\n",
       "      5      D\n",
       "\n",
       "[15772 rows x 1 columns]"
      ]
     },
     "execution_count": 33,
     "metadata": {},
     "output_type": "execute_result"
    }
   ],
   "source": [
    "# extractall creates a fan out with multiple indicies\n",
    "dickens_text_df['line'].str.extractall('([A-Z])')"
   ]
  },
  {
   "cell_type": "code",
   "execution_count": 34,
   "metadata": {
    "ExecuteTime": {
     "end_time": "2021-03-17T04:53:04.841071Z",
     "start_time": "2021-03-17T04:53:04.812202Z"
    }
   },
   "outputs": [],
   "source": [
    "# pandas\n",
    "dickens_text_df[\"results\"] = dickens_text_df[\"line\"].str.extract(r'([A-Z])')"
   ]
  },
  {
   "cell_type": "markdown",
   "metadata": {},
   "source": [
    "### Match all words that are at least 3 characters long"
   ]
  },
  {
   "cell_type": "code",
   "execution_count": 35,
   "metadata": {
    "ExecuteTime": {
     "end_time": "2021-03-17T04:53:04.857025Z",
     "start_time": "2021-03-17T04:53:04.843024Z"
    }
   },
   "outputs": [
    {
     "data": {
      "text/plain": [
       "['wolfram', 'Alpha', 'SUCKS', 'Even', 'for']"
      ]
     },
     "execution_count": 35,
     "metadata": {},
     "output_type": "execute_result"
    }
   ],
   "source": [
    "# re\n",
    "re.findall(\"[a-zA-Z]{3,}\", SAMPLE_TWEET)[:5] # show only the first 5"
   ]
  },
  {
   "cell_type": "code",
   "execution_count": 36,
   "metadata": {
    "ExecuteTime": {
     "end_time": "2021-03-17T04:53:04.872982Z",
     "start_time": "2021-03-17T04:53:04.858981Z"
    }
   },
   "outputs": [
    {
     "data": {
      "text/plain": [
       "['wolfram',\n",
       " 'Alpha',\n",
       " 'SUCKS',\n",
       " 'Even',\n",
       " 'for',\n",
       " 'researchers',\n",
       " 'the',\n",
       " 'information',\n",
       " 'provided',\n",
       " 'less',\n",
       " 'than',\n",
       " 'you',\n",
       " 'can',\n",
       " 'get',\n",
       " 'from',\n",
       " 'google',\n",
       " 'wikipedia',\n",
       " 'totally',\n",
       " 'useless',\n",
       " 'Avoid',\n",
       " 'Wolfram',\n",
       " 'all',\n",
       " 'costs',\n",
       " 'ScrewWolframProducts']"
      ]
     },
     "execution_count": 36,
     "metadata": {},
     "output_type": "execute_result"
    }
   ],
   "source": [
    "re.findall(\"[a-zA-Z]{3,}\", SAMPLE_TWEET)"
   ]
  },
  {
   "cell_type": "code",
   "execution_count": 37,
   "metadata": {
    "ExecuteTime": {
     "end_time": "2021-03-17T04:53:04.888944Z",
     "start_time": "2021-03-17T04:53:04.874941Z"
    }
   },
   "outputs": [
    {
     "data": {
      "text/plain": [
       "'wolfram Alpha SUCKS Even for researchers the information provided less than you can get from google wikipedia totally useless Avoid Wolfram all costs ScrewWolframProducts'"
      ]
     },
     "execution_count": 37,
     "metadata": {},
     "output_type": "execute_result"
    }
   ],
   "source": [
    "\" \".join(re.findall(\"[a-zA-Z]{3,}\", SAMPLE_TWEET))"
   ]
  },
  {
   "cell_type": "code",
   "execution_count": 38,
   "metadata": {
    "ExecuteTime": {
     "end_time": "2021-03-17T04:53:04.935806Z",
     "start_time": "2021-03-17T04:53:04.890896Z"
    }
   },
   "outputs": [
    {
     "data": {
      "text/html": [
       "<div>\n",
       "<style scoped>\n",
       "    .dataframe tbody tr th:only-of-type {\n",
       "        vertical-align: middle;\n",
       "    }\n",
       "\n",
       "    .dataframe tbody tr th {\n",
       "        vertical-align: top;\n",
       "    }\n",
       "\n",
       "    .dataframe thead th {\n",
       "        text-align: right;\n",
       "    }\n",
       "</style>\n",
       "<table border=\"1\" class=\"dataframe\">\n",
       "  <thead>\n",
       "    <tr style=\"text-align: right;\">\n",
       "      <th></th>\n",
       "      <th>line</th>\n",
       "      <th>results</th>\n",
       "    </tr>\n",
       "  </thead>\n",
       "  <tbody>\n",
       "    <tr>\n",
       "      <th>0</th>\n",
       "      <td>IT WAS the best of times, it was the worst o...</td>\n",
       "      <td>WAS</td>\n",
       "    </tr>\n",
       "    <tr>\n",
       "      <th>1</th>\n",
       "      <td>age of wisdom, it was the age of foolishness, ...</td>\n",
       "      <td>age</td>\n",
       "    </tr>\n",
       "    <tr>\n",
       "      <th>2</th>\n",
       "      <td>belief, it was the epoch of incredulity, it wa...</td>\n",
       "      <td>belief</td>\n",
       "    </tr>\n",
       "    <tr>\n",
       "      <th>3</th>\n",
       "      <td>it was the season of Darkness, it was the spri...</td>\n",
       "      <td>was</td>\n",
       "    </tr>\n",
       "    <tr>\n",
       "      <th>4</th>\n",
       "      <td>winter of despair, we had everything before us...</td>\n",
       "      <td>winter</td>\n",
       "    </tr>\n",
       "    <tr>\n",
       "      <th>...</th>\n",
       "      <td>...</td>\n",
       "      <td>...</td>\n",
       "    </tr>\n",
       "    <tr>\n",
       "      <th>12865</th>\n",
       "      <td>hear him tell the child my story, with a tende...</td>\n",
       "      <td>hear</td>\n",
       "    </tr>\n",
       "    <tr>\n",
       "      <th>12866</th>\n",
       "      <td>\"It is a far, far better thing that I do, th...</td>\n",
       "      <td>far</td>\n",
       "    </tr>\n",
       "    <tr>\n",
       "      <th>12867</th>\n",
       "      <td>it is a far, far better rest that I go to than...</td>\n",
       "      <td>far</td>\n",
       "    </tr>\n",
       "    <tr>\n",
       "      <th>12868</th>\n",
       "      <td></td>\n",
       "      <td>NaN</td>\n",
       "    </tr>\n",
       "    <tr>\n",
       "      <th>12869</th>\n",
       "      <td>-THE END-</td>\n",
       "      <td>THE</td>\n",
       "    </tr>\n",
       "  </tbody>\n",
       "</table>\n",
       "<p>12870 rows × 2 columns</p>\n",
       "</div>"
      ],
      "text/plain": [
       "                                                    line results\n",
       "0        IT WAS the best of times, it was the worst o...     WAS\n",
       "1      age of wisdom, it was the age of foolishness, ...     age\n",
       "2      belief, it was the epoch of incredulity, it wa...  belief\n",
       "3      it was the season of Darkness, it was the spri...     was\n",
       "4      winter of despair, we had everything before us...  winter\n",
       "...                                                  ...     ...\n",
       "12865  hear him tell the child my story, with a tende...    hear\n",
       "12866    \"It is a far, far better thing that I do, th...     far\n",
       "12867  it is a far, far better rest that I go to than...     far\n",
       "12868                                                        NaN\n",
       "12869                                          -THE END-     THE\n",
       "\n",
       "[12870 rows x 2 columns]"
      ]
     },
     "execution_count": 38,
     "metadata": {},
     "output_type": "execute_result"
    }
   ],
   "source": [
    "# pandas\n",
    "dickens_text_df[\"results\"] = dickens_text_df[\"line\"].str.extract(r'([a-zA-Z]{3,})')\n",
    "dickens_text_df"
   ]
  },
  {
   "cell_type": "code",
   "execution_count": 39,
   "metadata": {
    "ExecuteTime": {
     "end_time": "2021-03-17T04:53:05.014053Z",
     "start_time": "2021-03-17T04:53:04.937772Z"
    }
   },
   "outputs": [
    {
     "data": {
      "text/html": [
       "<div>\n",
       "<style scoped>\n",
       "    .dataframe tbody tr th:only-of-type {\n",
       "        vertical-align: middle;\n",
       "    }\n",
       "\n",
       "    .dataframe tbody tr th {\n",
       "        vertical-align: top;\n",
       "    }\n",
       "\n",
       "    .dataframe thead th {\n",
       "        text-align: right;\n",
       "    }\n",
       "</style>\n",
       "<table border=\"1\" class=\"dataframe\">\n",
       "  <thead>\n",
       "    <tr style=\"text-align: right;\">\n",
       "      <th></th>\n",
       "      <th>line</th>\n",
       "      <th>results</th>\n",
       "    </tr>\n",
       "  </thead>\n",
       "  <tbody>\n",
       "    <tr>\n",
       "      <th>0</th>\n",
       "      <td>IT WAS the best of times, it was the worst o...</td>\n",
       "      <td>[WAS, the, best, times, was, the, worst, times...</td>\n",
       "    </tr>\n",
       "    <tr>\n",
       "      <th>1</th>\n",
       "      <td>age of wisdom, it was the age of foolishness, ...</td>\n",
       "      <td>[age, wisdom, was, the, age, foolishness, was,...</td>\n",
       "    </tr>\n",
       "    <tr>\n",
       "      <th>2</th>\n",
       "      <td>belief, it was the epoch of incredulity, it wa...</td>\n",
       "      <td>[belief, was, the, epoch, incredulity, was, th...</td>\n",
       "    </tr>\n",
       "    <tr>\n",
       "      <th>3</th>\n",
       "      <td>it was the season of Darkness, it was the spri...</td>\n",
       "      <td>[was, the, season, Darkness, was, the, spring,...</td>\n",
       "    </tr>\n",
       "    <tr>\n",
       "      <th>4</th>\n",
       "      <td>winter of despair, we had everything before us...</td>\n",
       "      <td>[winter, despair, had, everything, before, had...</td>\n",
       "    </tr>\n",
       "    <tr>\n",
       "      <th>...</th>\n",
       "      <td>...</td>\n",
       "      <td>...</td>\n",
       "    </tr>\n",
       "    <tr>\n",
       "      <th>12865</th>\n",
       "      <td>hear him tell the child my story, with a tende...</td>\n",
       "      <td>[hear, him, tell, the, child, story, with, ten...</td>\n",
       "    </tr>\n",
       "    <tr>\n",
       "      <th>12866</th>\n",
       "      <td>\"It is a far, far better thing that I do, th...</td>\n",
       "      <td>[far, far, better, thing, that, than, have, ev...</td>\n",
       "    </tr>\n",
       "    <tr>\n",
       "      <th>12867</th>\n",
       "      <td>it is a far, far better rest that I go to than...</td>\n",
       "      <td>[far, far, better, rest, that, than, have, eve...</td>\n",
       "    </tr>\n",
       "    <tr>\n",
       "      <th>12868</th>\n",
       "      <td></td>\n",
       "      <td>[]</td>\n",
       "    </tr>\n",
       "    <tr>\n",
       "      <th>12869</th>\n",
       "      <td>-THE END-</td>\n",
       "      <td>[THE, END]</td>\n",
       "    </tr>\n",
       "  </tbody>\n",
       "</table>\n",
       "<p>12870 rows × 2 columns</p>\n",
       "</div>"
      ],
      "text/plain": [
       "                                                    line  \\\n",
       "0        IT WAS the best of times, it was the worst o...   \n",
       "1      age of wisdom, it was the age of foolishness, ...   \n",
       "2      belief, it was the epoch of incredulity, it wa...   \n",
       "3      it was the season of Darkness, it was the spri...   \n",
       "4      winter of despair, we had everything before us...   \n",
       "...                                                  ...   \n",
       "12865  hear him tell the child my story, with a tende...   \n",
       "12866    \"It is a far, far better thing that I do, th...   \n",
       "12867  it is a far, far better rest that I go to than...   \n",
       "12868                                                      \n",
       "12869                                          -THE END-   \n",
       "\n",
       "                                                 results  \n",
       "0      [WAS, the, best, times, was, the, worst, times...  \n",
       "1      [age, wisdom, was, the, age, foolishness, was,...  \n",
       "2      [belief, was, the, epoch, incredulity, was, th...  \n",
       "3      [was, the, season, Darkness, was, the, spring,...  \n",
       "4      [winter, despair, had, everything, before, had...  \n",
       "...                                                  ...  \n",
       "12865  [hear, him, tell, the, child, story, with, ten...  \n",
       "12866  [far, far, better, thing, that, than, have, ev...  \n",
       "12867  [far, far, better, rest, that, than, have, eve...  \n",
       "12868                                                 []  \n",
       "12869                                         [THE, END]  \n",
       "\n",
       "[12870 rows x 2 columns]"
      ]
     },
     "execution_count": 39,
     "metadata": {},
     "output_type": "execute_result"
    }
   ],
   "source": [
    "dickens_text_df[\"results\"] =  dickens_text_df[\"line\"].str.findall(r'([a-zA-Z]{3,})')\n",
    "dickens_text_df"
   ]
  },
  {
   "cell_type": "markdown",
   "metadata": {},
   "source": [
    "### Word Boundaries\n",
    "\n",
    "Consider the sentence:\n",
    "\n",
    "> *A thorough examination of the movie shows Thor was a thorn in the side of the villains, both then and now. thor.*\n",
    "\n",
    "What happens if you try to parse out all `Thor` references? What happens if you want to remove `A` or `a`, or `the` to clean up the text?"
   ]
  },
  {
   "cell_type": "code",
   "execution_count": 40,
   "metadata": {
    "ExecuteTime": {
     "end_time": "2021-03-17T04:53:05.030014Z",
     "start_time": "2021-03-17T04:53:05.016015Z"
    }
   },
   "outputs": [],
   "source": [
    "text = \"A thorough examination of the movie shows Thor was a thorn in the side of the villains, both then and now. thor.\""
   ]
  },
  {
   "cell_type": "code",
   "execution_count": 41,
   "metadata": {
    "ExecuteTime": {
     "end_time": "2021-03-17T04:53:05.045934Z",
     "start_time": "2021-03-17T04:53:05.032002Z"
    }
   },
   "outputs": [
    {
     "data": {
      "text/plain": [
       "['A', 'a', 'a', 'a', 'a', 'a', 'a']"
      ]
     },
     "execution_count": 41,
     "metadata": {},
     "output_type": "execute_result"
    }
   ],
   "source": [
    "re.findall(r'(a|A)',text)"
   ]
  },
  {
   "cell_type": "code",
   "execution_count": 42,
   "metadata": {
    "ExecuteTime": {
     "end_time": "2021-03-17T04:53:05.060894Z",
     "start_time": "2021-03-17T04:53:05.047930Z"
    }
   },
   "outputs": [
    {
     "data": {
      "text/plain": [
       "' thorough exmintion of the movie shows Thor ws  thorn in the side of the villins, both then nd now. thor.'"
      ]
     },
     "execution_count": 42,
     "metadata": {},
     "output_type": "execute_result"
    }
   ],
   "source": [
    "# re\n",
    "# get rid of all upper/lowercase character As\n",
    "text = \"A thorough examination of the movie shows Thor was a thorn in the side of the villains, both then and now. thor.\"\n",
    "text = re.sub(r'(a|A)', '', text)\n",
    "text"
   ]
  },
  {
   "cell_type": "code",
   "execution_count": 43,
   "metadata": {
    "ExecuteTime": {
     "end_time": "2021-03-17T04:53:05.076853Z",
     "start_time": "2021-03-17T04:53:05.063886Z"
    }
   },
   "outputs": [
    {
     "data": {
      "text/plain": [
       "['Thor', 'thor']"
      ]
     },
     "execution_count": 43,
     "metadata": {},
     "output_type": "execute_result"
    }
   ],
   "source": [
    "# need the \\b because thorough and thorn would be counted\n",
    "text = \"A thorough examination of the movie shows Thor was a thorn in the side of the villains, both then and now. thor.\"\n",
    "re.findall(r'\\b(thor|Thor)\\b', text) # notice the use of the r string prefix!"
   ]
  },
  {
   "cell_type": "code",
   "execution_count": 44,
   "metadata": {
    "ExecuteTime": {
     "end_time": "2021-03-17T04:53:05.139722Z",
     "start_time": "2021-03-17T04:53:05.078849Z"
    }
   },
   "outputs": [
    {
     "data": {
      "text/html": [
       "<div>\n",
       "<style scoped>\n",
       "    .dataframe tbody tr th:only-of-type {\n",
       "        vertical-align: middle;\n",
       "    }\n",
       "\n",
       "    .dataframe tbody tr th {\n",
       "        vertical-align: top;\n",
       "    }\n",
       "\n",
       "    .dataframe thead th {\n",
       "        text-align: right;\n",
       "    }\n",
       "</style>\n",
       "<table border=\"1\" class=\"dataframe\">\n",
       "  <thead>\n",
       "    <tr style=\"text-align: right;\">\n",
       "      <th></th>\n",
       "      <th>line</th>\n",
       "      <th>results</th>\n",
       "    </tr>\n",
       "  </thead>\n",
       "  <tbody>\n",
       "    <tr>\n",
       "      <th>0</th>\n",
       "      <td>IT WAS the best of times, it was the worst o...</td>\n",
       "      <td>[the, the, the]</td>\n",
       "    </tr>\n",
       "    <tr>\n",
       "      <th>1</th>\n",
       "      <td>age of wisdom, it was the age of foolishness, ...</td>\n",
       "      <td>[the, the]</td>\n",
       "    </tr>\n",
       "    <tr>\n",
       "      <th>2</th>\n",
       "      <td>belief, it was the epoch of incredulity, it wa...</td>\n",
       "      <td>[the, the]</td>\n",
       "    </tr>\n",
       "    <tr>\n",
       "      <th>3</th>\n",
       "      <td>it was the season of Darkness, it was the spri...</td>\n",
       "      <td>[the, the, the]</td>\n",
       "    </tr>\n",
       "    <tr>\n",
       "      <th>4</th>\n",
       "      <td>winter of despair, we had everything before us...</td>\n",
       "      <td>[]</td>\n",
       "    </tr>\n",
       "  </tbody>\n",
       "</table>\n",
       "</div>"
      ],
      "text/plain": [
       "                                                line          results\n",
       "0    IT WAS the best of times, it was the worst o...  [the, the, the]\n",
       "1  age of wisdom, it was the age of foolishness, ...       [the, the]\n",
       "2  belief, it was the epoch of incredulity, it wa...       [the, the]\n",
       "3  it was the season of Darkness, it was the spri...  [the, the, the]\n",
       "4  winter of despair, we had everything before us...               []"
      ]
     },
     "execution_count": 44,
     "metadata": {},
     "output_type": "execute_result"
    }
   ],
   "source": [
    "# pandas\n",
    "dickens_text_df[\"results\"] = dickens_text_df[\"line\"].str.findall(r'\\bthe\\b')\n",
    "dickens_text_df.head(5)"
   ]
  },
  {
   "cell_type": "markdown",
   "metadata": {},
   "source": [
    "### Removing Stopwords Using Regex"
   ]
  },
  {
   "cell_type": "code",
   "execution_count": 45,
   "metadata": {
    "ExecuteTime": {
     "end_time": "2021-03-17T04:53:05.154684Z",
     "start_time": "2021-03-17T04:53:05.140682Z"
    }
   },
   "outputs": [
    {
     "data": {
      "text/plain": [
       "'A thorough examination of  movie shows Thor was a thorn in  side of  villains, both n and now. thor.'"
      ]
     },
     "execution_count": 45,
     "metadata": {},
     "output_type": "execute_result"
    }
   ],
   "source": [
    "# re\n",
    "text = re.sub('(the|The)', '', text, flags=re.IGNORECASE)\n",
    "text"
   ]
  },
  {
   "cell_type": "code",
   "execution_count": 46,
   "metadata": {
    "ExecuteTime": {
     "end_time": "2021-03-17T04:53:05.202517Z",
     "start_time": "2021-03-17T04:53:05.156671Z"
    }
   },
   "outputs": [
    {
     "data": {
      "text/html": [
       "<div>\n",
       "<style scoped>\n",
       "    .dataframe tbody tr th:only-of-type {\n",
       "        vertical-align: middle;\n",
       "    }\n",
       "\n",
       "    .dataframe tbody tr th {\n",
       "        vertical-align: top;\n",
       "    }\n",
       "\n",
       "    .dataframe thead th {\n",
       "        text-align: right;\n",
       "    }\n",
       "</style>\n",
       "<table border=\"1\" class=\"dataframe\">\n",
       "  <thead>\n",
       "    <tr style=\"text-align: right;\">\n",
       "      <th></th>\n",
       "      <th>line</th>\n",
       "      <th>results</th>\n",
       "    </tr>\n",
       "  </thead>\n",
       "  <tbody>\n",
       "    <tr>\n",
       "      <th>0</th>\n",
       "      <td>IT WAS the best of times, it was the worst o...</td>\n",
       "      <td>IT WAS  best of times, it was  worst of time...</td>\n",
       "    </tr>\n",
       "    <tr>\n",
       "      <th>1</th>\n",
       "      <td>age of wisdom, it was the age of foolishness, ...</td>\n",
       "      <td>age of wisdom, it was  age of foolishness, it ...</td>\n",
       "    </tr>\n",
       "    <tr>\n",
       "      <th>2</th>\n",
       "      <td>belief, it was the epoch of incredulity, it wa...</td>\n",
       "      <td>belief, it was  epoch of incredulity, it was  ...</td>\n",
       "    </tr>\n",
       "    <tr>\n",
       "      <th>3</th>\n",
       "      <td>it was the season of Darkness, it was the spri...</td>\n",
       "      <td>it was  season of Darkness, it was  spring of ...</td>\n",
       "    </tr>\n",
       "    <tr>\n",
       "      <th>4</th>\n",
       "      <td>winter of despair, we had everything before us...</td>\n",
       "      <td>winter of despair, we had everything before us...</td>\n",
       "    </tr>\n",
       "  </tbody>\n",
       "</table>\n",
       "</div>"
      ],
      "text/plain": [
       "                                                line  \\\n",
       "0    IT WAS the best of times, it was the worst o...   \n",
       "1  age of wisdom, it was the age of foolishness, ...   \n",
       "2  belief, it was the epoch of incredulity, it wa...   \n",
       "3  it was the season of Darkness, it was the spri...   \n",
       "4  winter of despair, we had everything before us...   \n",
       "\n",
       "                                             results  \n",
       "0    IT WAS  best of times, it was  worst of time...  \n",
       "1  age of wisdom, it was  age of foolishness, it ...  \n",
       "2  belief, it was  epoch of incredulity, it was  ...  \n",
       "3  it was  season of Darkness, it was  spring of ...  \n",
       "4  winter of despair, we had everything before us...  "
      ]
     },
     "execution_count": 46,
     "metadata": {},
     "output_type": "execute_result"
    }
   ],
   "source": [
    "# pandas\n",
    "\n",
    "dickens_text_df[\"results\"] = dickens_text_df[\"line\"].str.replace(r'\\bthe\\b', '', case=False)\n",
    "dickens_text_df.head()"
   ]
  },
  {
   "cell_type": "markdown",
   "metadata": {},
   "source": [
    "### Regex Exercises\n",
    "\n",
    "Write the Python code needed in order to answer each of the following questions.\n",
    "\n",
    "1. One of the main characters in **A Tale of Two Cities** is `Sydney Carton`. How many times is the word `Carton` used?\n",
    "2. How many times does the word `the` appear in the novel?\n",
    "3. How many words of 3 or more characters in length appear in all caps in the novel **A Tale of Two Cities**?\n",
    "4. How would you find replace the stopword `the` using regex from `Tale of Two Cities`\n",
    "5. What percentage of lines in Dickens' text contain adverbs? For now, you can classify an adverb as a word that ends in `ly`.\n",
    "6. One many times does Charles Dickens use the pattern `WORD, WORD, and WORD` in this novel (for example `red, bluff, and free`)?\n",
    "\n",
    "7. Open https://regexr.com/. Write a regular expression that parses the phone numbers from the following text:  \n",
    "> *My phone number is 860-941-5955. But you can also call me at my international number, +011-47-324-941-8292*\n",
    "\n",
    "8. Write a regular expression that parses out **all hashtags** used in a tweet:\n",
    "> *people saying #GoT is boring after watching 3 episodes lmao yall are so used to mediocrity and fast paced stories without any depth and complexity in it’s characters so y’all can’t appreciate it’s the #1 show in America, but GoT outsold for a reason #GameOfThrones #LevelUpSon*"
   ]
  },
  {
   "cell_type": "markdown",
   "metadata": {
    "heading_collapsed": true
   },
   "source": [
    "# Encoding Schemes\n",
    "\n",
    "This is not a computer science class, but in your practical work, you will frequently have to deal with text that is encoded in a variety of styles. Understanding the difference between them is key.\n",
    "\n",
    "### Implications for Data Science\n",
    "\n",
    "Reasons I've encountered in my own work with NLP why it is beneficial to understand text encoding schemes:\n",
    "* If you are not using the right encoding, you cannot perform adequate feature engineering\n",
    "* Some data-scientists have simply \"thrown away\" samples of tweets, social media comments that seem \"mal-formed\" but are actually simply just using a different encoding scheme\n",
    "\n",
    "\n",
    "## World Languages, in Context\n",
    "\n",
    "<figure>\n",
    "  <img src=\"images/most_popular_languages.png\" alt=\"my alt text\"/>\n",
    "</figure>\n",
    "\n",
    "## Bits and Bytes\n",
    "\n",
    "- Computers, at its lowest level, store everything in the form of bits (either a 0 or a 1). The amount of information that can be represented in a computer is determined by the number of bits.\n",
    "\n",
    "<figure>\n",
    "  <img src=\"images/hierarchy.png\" alt=\"my alt text\"/>\n",
    "</figure>\n",
    "\n",
    "For instance, a using only 4 bits, you can store **$2^4$ = 16** different values.\n",
    "<figure>\n",
    "  <img src=\"images/binary.png\" alt=\"my alt text\"/>\n",
    "    <figcaption><i>How <b>$101010$</b> is converted to decimal (human-readable numbers): each of the green numbers is summed up to equal 42.</i></figcaption>\n",
    "</figure>\n",
    "\n",
    "It is not physically efficient for a computer to try to read one bit at a time, so typically data is stored in **8-bit** groups called **bytes**.\n",
    "\n",
    "### Exercises\n",
    "\n",
    "1. How many bits (0s and 1s) does it take to represent **4 different characters**?\n",
    "2. How many bits (0s and 1s does it take to represent **128 different characters**?\n",
    "\n",
    "## ASCII\n",
    "\n",
    "The oldest, yet still relevant encoding style to be aware of is **ASCII**, where computers represent text (**every character on a keyboard**) initially as a number between 0 and 127 (question: how many bits does it take to do this?)\n",
    "\n",
    "<figure>\n",
    "  <img src=\"images/ascii.svg\" alt=\"my alt text\"/>\n",
    "    <figcaption><i>ASCII table converting numbers to characters.<b>(Wikipedia)</b></i></figcaption>\n",
    "</figure>\n",
    "\n",
    "*If the smallest amount of data a computer can realistically read in is a byte (**8-bits**), why is ASCII only **7-bits**?* The last bit was a **parity bit** is used for **error checking** - to ensure that the data wasn't corrected or unintentionally altered.\n",
    "\n",
    "### Encoding/Decoding Words\n",
    "\n",
    "How would you write the word `Data` using ASCII encoding?\n",
    "\n",
    "#### Steps:\n",
    "\n",
    "1. Look up the \"codepoint\" for the first character (`D`).\n",
    "\n",
    "When you look up the character map value for `D`, its corresponding codepoint is `68`. Note that this is a different codepoint than lowercase `d`.\n",
    "\n",
    "2. Write out that number in binary.\n",
    "\n",
    "<figure>\n",
    "  <img src=\"images/empty_binary_workbook.png\" alt=\"my alt text\"/>\n",
    "</figure>\n",
    "\n",
    "<figure>\n",
    "  <img src=\"images/full_binary_workbook.png\" alt=\"my alt text\"/>\n",
    "</figure>\n",
    "\n",
    "The ASCII binary encoding for `D` is `1000100`.\n",
    "\n",
    "3. Repeat for `a`, `t`, and `a`.\n",
    "\n",
    "Use [this website to check your answer](https://www.rapidtables.com/convert/number/ascii-to-binary.html)."
   ]
  },
  {
   "cell_type": "code",
   "execution_count": 47,
   "metadata": {
    "ExecuteTime": {
     "end_time": "2021-03-17T04:53:05.218475Z",
     "start_time": "2021-03-17T04:53:05.204511Z"
    },
    "hidden": true
   },
   "outputs": [
    {
     "data": {
      "text/plain": [
       "'utf-8'"
      ]
     },
     "execution_count": 47,
     "metadata": {},
     "output_type": "execute_result"
    }
   ],
   "source": [
    "# to find out your computer's default encoding system\n",
    "sys.getdefaultencoding()"
   ]
  },
  {
   "cell_type": "markdown",
   "metadata": {
    "hidden": true
   },
   "source": [
    "#### Exercises\n",
    "1. Convert the word `cat` to binary ASCII encoding.\n",
    "2. What word is represented by the following binary encoding? `01100001 01110010 01110100`"
   ]
  },
  {
   "cell_type": "markdown",
   "metadata": {
    "hidden": true
   },
   "source": [
    "\n",
    "### Python Code\n",
    "\n",
    "Do not worry about understanding what is happening inside the `get_binary_for_char` and `get_binary` functions. Just know that they take in a string and produce the 0s and 1s that the string is encoded in:"
   ]
  },
  {
   "cell_type": "code",
   "execution_count": 48,
   "metadata": {
    "ExecuteTime": {
     "end_time": "2021-03-17T04:53:05.234432Z",
     "start_time": "2021-03-17T04:53:05.219472Z"
    },
    "hidden": true
   },
   "outputs": [],
   "source": [
    "import re\n",
    "from typing import List\n",
    "\n",
    "def get_binary_for_char(char: str, encoding=\"utf-8\") -> str:\n",
    "    \"\"\"\n",
    "    Encodes a character using the desired encoding into its corresponding hex, then converts the\n",
    "    hex code into binary, formatted with tab spaces between byte marks.\n",
    "    \"\"\"\n",
    "\n",
    "    hex_code = char.encode(encoding).hex()\n",
    "    code_point = hex(ord(char))[2:].upper()\n",
    "\n",
    "    binary: str = f\"{int(hex_code, 16):08b}\"\n",
    "\n",
    "    byte_list: List[str] = re.findall('[01]{8}', binary)\n",
    "    formatted_binary: str = \"\\t\".join(byte_list)  # for variable length encoding, tab space between byte marks.\n",
    "    print(f\"{char} (U+{code_point.zfill(4)}, hex:{hex_code}) - {encoding}: {formatted_binary}\")\n",
    "    return formatted_binary\n",
    "\n",
    "\n",
    "def get_binary(text: str, encoding=\"utf-8\"):\n",
    "    return \" \".join([get_binary_for_char(char, encoding) for char in text])\n",
    "\n",
    "\n",
    "\n"
   ]
  },
  {
   "cell_type": "code",
   "execution_count": 49,
   "metadata": {
    "ExecuteTime": {
     "end_time": "2021-03-17T04:53:05.250389Z",
     "start_time": "2021-03-17T04:53:05.235429Z"
    },
    "hidden": true
   },
   "outputs": [],
   "source": [
    "# ASCII encoding of \"Data\"\n",
    "\n",
    "\n"
   ]
  },
  {
   "cell_type": "markdown",
   "metadata": {
    "hidden": true
   },
   "source": [
    "### Extended ASCII\n",
    "\n",
    "The dominant language in earlier eras of computing was English. People began to realize that ASCII was relatively limited, and even other European languages could not be properly supported. At the same time, transmission technology evolved to a standard of reliability such that the parity bit used for checking for errors was no longer needed. \n",
    "\n",
    "As a result, people began using the last (eighth) bit to extend the number of characters represented by ASCII from 128 characters to 256 characters.\n",
    "\n",
    "#### Latin-1\n",
    "\n",
    "Character map [available here](https://www.htmlhelp.com/reference/charset/latin1.gif).\n",
    "\n",
    "Characters such as `Ç` (pronounced `ch` in Turkish, for instance), is represented by the number `199`. The Spanish word `año` (year) includes a character `ñ` that would be represented by the code point `241`.\n",
    "\n",
    "#### Excel on Macs\n",
    "\n",
    "Macs commonly use [Mac OS Roman encoding](https://en.wikipedia.org/wiki/Mac_OS_Roman). "
   ]
  },
  {
   "cell_type": "code",
   "execution_count": 50,
   "metadata": {
    "ExecuteTime": {
     "end_time": "2021-03-17T04:53:05.266347Z",
     "start_time": "2021-03-17T04:53:05.252385Z"
    },
    "hidden": true
   },
   "outputs": [],
   "source": [
    "# latin1 encoding of \"cat\"\n",
    "\n"
   ]
  },
  {
   "cell_type": "code",
   "execution_count": 51,
   "metadata": {
    "ExecuteTime": {
     "end_time": "2021-03-17T04:53:05.282336Z",
     "start_time": "2021-03-17T04:53:05.268342Z"
    },
    "hidden": true
   },
   "outputs": [],
   "source": [
    "# encoding Cuántas\n",
    "\n",
    "\n"
   ]
  },
  {
   "cell_type": "markdown",
   "metadata": {
    "hidden": true
   },
   "source": [
    "In Python, to convert from bytes to strings, you use the `encode()` and `decode()` functions. \n",
    "\n",
    "### Turning Strings into Bytes"
   ]
  },
  {
   "cell_type": "code",
   "execution_count": 52,
   "metadata": {
    "ExecuteTime": {
     "end_time": "2021-03-17T04:53:05.377083Z",
     "start_time": "2021-03-17T04:53:05.284299Z"
    },
    "hidden": true
   },
   "outputs": [
    {
     "name": "stdout",
     "output_type": "stream",
     "text": [
      "Using latin1 encoding: b'm\\xe1s'\n"
     ]
    },
    {
     "ename": "UnicodeEncodeError",
     "evalue": "'ascii' codec can't encode character '\\xe1' in position 1: ordinal not in range(128)",
     "output_type": "error",
     "traceback": [
      "\u001b[1;31m---------------------------------------------------------------------------\u001b[0m",
      "\u001b[1;31mUnicodeEncodeError\u001b[0m                        Traceback (most recent call last)",
      "\u001b[1;32m<ipython-input-52-f27879f083c0>\u001b[0m in \u001b[0;36m<module>\u001b[1;34m\u001b[0m\n\u001b[0;32m      1\u001b[0m \u001b[1;31m# Using Python's encode/decode:\u001b[0m\u001b[1;33m\u001b[0m\u001b[1;33m\u001b[0m\u001b[1;33m\u001b[0m\u001b[0m\n\u001b[0;32m      2\u001b[0m \u001b[0mprint\u001b[0m\u001b[1;33m(\u001b[0m\u001b[1;34m\"Using latin1 encoding:\"\u001b[0m\u001b[1;33m,\u001b[0m \u001b[1;34m\"más\"\u001b[0m\u001b[1;33m.\u001b[0m\u001b[0mencode\u001b[0m\u001b[1;33m(\u001b[0m\u001b[0mencoding\u001b[0m\u001b[1;33m=\u001b[0m\u001b[1;34m\"latin1\"\u001b[0m\u001b[1;33m)\u001b[0m\u001b[1;33m)\u001b[0m\u001b[1;33m\u001b[0m\u001b[1;33m\u001b[0m\u001b[0m\n\u001b[1;32m----> 3\u001b[1;33m \u001b[0mprint\u001b[0m\u001b[1;33m(\u001b[0m\u001b[1;34m\"Using ASCII encoding:\"\u001b[0m\u001b[1;33m,\u001b[0m \u001b[1;34m\"más\"\u001b[0m\u001b[1;33m.\u001b[0m\u001b[0mencode\u001b[0m\u001b[1;33m(\u001b[0m\u001b[0mencoding\u001b[0m\u001b[1;33m=\u001b[0m\u001b[1;34m\"ascii\"\u001b[0m\u001b[1;33m)\u001b[0m\u001b[1;33m)\u001b[0m\u001b[1;33m\u001b[0m\u001b[1;33m\u001b[0m\u001b[0m\n\u001b[0m",
      "\u001b[1;31mUnicodeEncodeError\u001b[0m: 'ascii' codec can't encode character '\\xe1' in position 1: ordinal not in range(128)"
     ]
    }
   ],
   "source": [
    "# Using Python's encode/decode:\n",
    "print(\"Using latin1 encoding:\", \"más\".encode(encoding=\"latin1\"))\n",
    "print(\"Using ASCII encoding:\", \"más\".encode(encoding=\"ascii\"))"
   ]
  },
  {
   "cell_type": "markdown",
   "metadata": {
    "hidden": true
   },
   "source": [
    "### Turning Bytes into Strings"
   ]
  },
  {
   "cell_type": "code",
   "execution_count": null,
   "metadata": {
    "ExecuteTime": {
     "end_time": "2021-03-17T04:53:05.383034Z",
     "start_time": "2021-03-17T04:53:02.679Z"
    },
    "hidden": true
   },
   "outputs": [],
   "source": [
    "file = open(\"test.txt\", mode=\"rb\")\n",
    "bytes_from_file = file.read()\n",
    "print(type(bytes_from_file))\n",
    "string_from_file = bytes_from_file.decode()\n",
    "print(type(string_from_file))"
   ]
  },
  {
   "cell_type": "markdown",
   "metadata": {
    "hidden": true
   },
   "source": [
    "#### Exercises\n",
    "\n",
    "1. Encode the word `más` in ASCII.\n",
    "2. Encode the word `más` in `latin1`.\n",
    "3. Decode the binary stream `01100011 01100001 01110100`. Assume that it is using `latin1` encoding."
   ]
  },
  {
   "cell_type": "markdown",
   "metadata": {
    "hidden": true
   },
   "source": [
    "## Unicode\n",
    "\n",
    "128 characters is not enough to represent the characters in other Languages, like **Greek, Turkish, Cyrillic**, etc., or newer social media phenomenons like **emojis**. Unicode stores text as either 8, 16, or 32 bits (1, 2, or 4 bytes). This means there's significantly more characters that can be encoded (approximately 1 billion characters).\n",
    "\n",
    "As a point of reference, there's a total of **50,000** characters in the Chinese language (but only around **15-20,000** that are used commonly).\n",
    "\n",
    "If you don't specify the right encoding to read in text, you'll end up with something like this:\n",
    "<figure>\n",
    "  <img src=\"images/mojibake.png\" alt=\"my alt text\"/>\n",
    "    <figcaption><i>Malformed characters because of incorrect encoding.<b>(Wikipedia)</b></i></figcaption>\n",
    "</figure>\n",
    "\n",
    "### UTF-8\n",
    "\n",
    "The default encoding scheme of the internet today is `UTF-8`.\n",
    "\n",
    "<figure>\n",
    "  <img src=\"images/encoding_shares.svg\" alt=\"my alt text\"/>\n",
    "    <figcaption><i>Share of web pages with different encodings.<b>(Wikipedia)</b></i></figcaption>\n",
    "</figure>\n",
    "\n",
    "There is another encoding schema very similar to `UTF-8` called `UTF-16`. You'll typically find it being used on Windows systems and within Java applications.\n"
   ]
  },
  {
   "cell_type": "markdown",
   "metadata": {
    "hidden": true
   },
   "source": [
    "#### Getting the Codepoint of a Character"
   ]
  },
  {
   "cell_type": "code",
   "execution_count": null,
   "metadata": {
    "ExecuteTime": {
     "end_time": "2021-03-17T04:53:05.384033Z",
     "start_time": "2021-03-17T04:53:02.682Z"
    },
    "hidden": true
   },
   "outputs": [],
   "source": [
    "ord(\"a\")"
   ]
  },
  {
   "cell_type": "markdown",
   "metadata": {
    "hidden": true
   },
   "source": [
    "#### Getting the Character from a Codepoint"
   ]
  },
  {
   "cell_type": "code",
   "execution_count": null,
   "metadata": {
    "ExecuteTime": {
     "end_time": "2021-03-17T04:53:05.384033Z",
     "start_time": "2021-03-17T04:53:02.684Z"
    },
    "hidden": true
   },
   "outputs": [],
   "source": [
    "chr(97) + chr(109)"
   ]
  },
  {
   "cell_type": "markdown",
   "metadata": {
    "hidden": true
   },
   "source": [
    "\n",
    "### Variable Length Encoding /Digitalization and Internationalization\n",
    "\n",
    "UTF-8 is the default encoding schema of the internet. Whenever you save files to disk, or read files in, your first choice should be to try using UTF-8. UTF-8 is an example of **variable-length encoding**. This means sometimes a character will take 8 bits to encode (represent), sometimes 16 bits, sometimes 24 bits, and sometimes 32 bits.\n",
    "\n",
    "UTF-8 uses **continuation bytes** for any character it needs to represent beyond 1 byte. These bytes always start with `10`.\n",
    "\n",
    "<figure>\n",
    "  <img src=\"images/continuation.png\" alt=\"my alt text\"/>\n",
    "    <figcaption><i>UTF-8 Continuation Bytes</i></figcaption>\n",
    "</figure>\n",
    "\n",
    "On the other hand, another encoding scheme is `UTF-32`- it always takes **32 bits**. \n",
    "\n",
    "#### Data Science Implications\n",
    "UTF-8 should be your default encoding of choice when working with Big Data. Because the # of bits it takes to encode a character changes, it can be more \"storage-efficient\" on disk, and more \"memory-efficient\" when representing this text in memory. \n",
    "\n",
    "Many machine-learning algorithms (like **batch and mini-batch gradient descent**) will perform updates using batches of samples  (if not the entire dataaset). If you choose the wrong encoding, you will not be able to fit as many samples into your batch for training as you'd like - this means your model may require significantly more training time and perform worse."
   ]
  },
  {
   "cell_type": "code",
   "execution_count": null,
   "metadata": {
    "ExecuteTime": {
     "end_time": "2021-03-17T04:53:05.385027Z",
     "start_time": "2021-03-17T04:53:02.686Z"
    },
    "hidden": true,
    "scrolled": true
   },
   "outputs": [],
   "source": [
    "# get_binary(\"I 😍 DSO 599\", encoding=\"ascii\")\n",
    "# get_binary(\"I 😍 DSO 599\", encoding=\"latin1\")\n",
    "# get_binary(\"I 😍 DSO 599\", encoding=\"utf8\")"
   ]
  },
  {
   "cell_type": "markdown",
   "metadata": {},
   "source": [
    "# Homework 1 (Due Tuesday, March 30th, 2021 at 6:29pm PST)\n",
    "\n",
    "Every day late is -10%.\n",
    "\n",
    "You are a business analyst working for a major US toy retailer:\n",
    "\n",
    "* A manager in the marketing department wants to find out the most frequently used words in positive reviews (five stars) and negative reviews (one star) in order to determine what occasion the toys are purchased for (Christmas, birthdays, and anniversaries.). He would like your opinion on **which gift occasions (Christmas, birthdays, or anniversaries) tend to have the most positive reviews** to focus marketing budget on those days.\n",
    "\n",
    "* There are malformed characters in the review text. For instance, notice the `&#34;` - these are examples of incorrectly decoded [HTML encodings](https://krypted.com/utilities/html-encoding-reference/).\n",
    "```\n",
    "\"amazing quality first of all, these cards are amazing proxies (but don't try to use em in &#34;official duels&#34; unless a judge is okay with it, if you have the real thing to show) and look amazing in your binder!\"\n",
    "```\n",
    "Please clean up all instances of these incorrect decodings.\n",
    "\n",
    "* One of your product managers suspects that **toys purchased for male recipients (husbands, sons, etc.)** tend to be much more likely to be reviewed poorly. She would like to see some data points confirming or rejecting her hypothesis. \n",
    "\n",
    "* Use **regular expressions to parse out all references to recipients and gift occassions**, and account for the possibility that people may spell words \"son\" / \"children\" / \"Christmas\" as both singular and plural, upper or lower-cased.\n",
    "\n",
    "* Explain what some of **pitfalls/limitations** are of using only a word count analysis to make these inferences. What additional research/steps would you need to do to verify your conclusions?\n",
    "\n",
    "* **Create a simple text file that contains 2-3 lines at most describing yourself, your background, and interests. It must contain at least 1 emoji and 4-5 international characters (non-ASCII)**. Make sure to properly encode the file so that I can open it in `UTF-8` to read. I must be able to read all characters properly. Attach it to your submission.\n",
    "\n",
    "Perform the same word count analysis using the reviews received from Amazon to answer your marketing manager's question. They are stored in two files, (`poor_amazon_toy_reviews.txt`) and (`good-amazon-toy-reviews.txt`). **Provide a few sentences with your findings and business recommendations.** Make any assumptions you'd like to- this is a fictitious company after all. I just want you to get into the habit of \"finishing\" your analysis: to avoid delivering technical numbers to a non-technical manager.\n",
    "\n",
    "**Submit everything as a new notebook and Slack direct message to me (Yu Chen) and the TA the HW as an attachment.**\n",
    "\n",
    "**NOTE**: Name the notebook `lastname_firstname_HW1.ipynb`."
   ]
  },
  {
   "cell_type": "markdown",
   "metadata": {},
   "source": [
    "## Next Week (March 30th)\n",
    "\n",
    "* `scikit-learn`, `nltk`, and `scipy` libraries for NLP (make sure to install each of these libraries\n",
    "* Bayes Rule, Naive Bayes, probability theory for text classification\n",
    "* Similiarity/distance measures\n",
    "* N-Grams\n",
    "* Tokenization, lemmatization, stemming\n",
    "* Basic word vectorization techniques: Count, TF-IDF, One-Hot encoding\n",
    "* Dimensionality Reduction"
   ]
  },
  {
   "cell_type": "markdown",
   "metadata": {},
   "source": [
    "### Check for Understanding\n",
    "\n",
    "1. Which of the encodings below will be able to encode this text: `사업`\n",
    "2. **True or False**: the word `dog` will have the same binary representation regardless of whether it is `ASCII`, `latin1`, or `utf8`.\n",
    "3. According to the Zipf Law approximation, approximately what frequency (express it has a percent) would the 3rd most popular word in a generic piece of text appear?\n",
    "4. **True or False**: what is considered a stopword changes depending on the business context and dataset you are working with. If true, provide an example. If false, explain why it is false."
   ]
  }
 ],
 "metadata": {
  "kernelspec": {
   "display_name": "Python 3",
   "language": "python",
   "name": "python3"
  },
  "language_info": {
   "codemirror_mode": {
    "name": "ipython",
    "version": 3
   },
   "file_extension": ".py",
   "mimetype": "text/x-python",
   "name": "python",
   "nbconvert_exporter": "python",
   "pygments_lexer": "ipython3",
   "version": "3.7.6"
  },
  "toc": {
   "base_numbering": 1,
   "nav_menu": {},
   "number_sections": true,
   "sideBar": true,
   "skip_h1_title": false,
   "title_cell": "Table of Contents",
   "title_sidebar": "Contents",
   "toc_cell": true,
   "toc_position": {
    "height": "calc(100% - 180px)",
    "left": "10px",
    "top": "150px",
    "width": "372px"
   },
   "toc_section_display": true,
   "toc_window_display": true
  },
  "varInspector": {
   "cols": {
    "lenName": 16,
    "lenType": 16,
    "lenVar": 40
   },
   "kernels_config": {
    "python": {
     "delete_cmd_postfix": "",
     "delete_cmd_prefix": "del ",
     "library": "var_list.py",
     "varRefreshCmd": "print(var_dic_list())"
    },
    "r": {
     "delete_cmd_postfix": ") ",
     "delete_cmd_prefix": "rm(",
     "library": "var_list.r",
     "varRefreshCmd": "cat(var_dic_list()) "
    }
   },
   "types_to_exclude": [
    "module",
    "function",
    "builtin_function_or_method",
    "instance",
    "_Feature"
   ],
   "window_display": false
  }
 },
 "nbformat": 4,
 "nbformat_minor": 2
}
