{
 "cells": [
  {
   "cell_type": "markdown",
   "id": "innocent-payment",
   "metadata": {},
   "source": [
    "## Classwork For Lecture 2 (Due 6:29pm PST March 30th, 2021): Word Vectorization, Regex Practice, and Similarity"
   ]
  },
  {
   "cell_type": "markdown",
   "id": "phantom-input",
   "metadata": {},
   "source": [
    "A. Answer all the exercise questions in the **Text Preprocessing** notebook.\n",
    "B. Answer the below questions about text encoding and word count distributions:\n",
    "\n",
    "1. Which of the encodings below will be able to encode this text: 사업: ascii, latin1, utf-8, utf-32, extended ascii\n",
    "\n",
    "\n",
    "2. **True or False**: the word dog will have the same binary representation regardless of whether it is ASCII, latin1, or utf8. If False, explain why it is false.\n",
    "\n",
    "\n",
    "3. According to the Zipf Law approximation, approximately what frequency (express it has a percent) would the 3rd most popular word in a generic piece of text appear?\n",
    "\n",
    "\n",
    "4. **True or False**: what is considered a stopword changes depending on the business context and dataset you are working with. If true, provide an example. If false, explain why it is false."
   ]
  },
  {
   "cell_type": "markdown",
   "id": "baking-prevention",
   "metadata": {},
   "source": [
    "Question 1\n",
    "\n",
    "Which of the encodings below will be able to encode this text: 사업: ascii, latin1, utf-8, utf-32, extended ascii."
   ]
  },
  {
   "cell_type": "code",
   "execution_count": 1,
   "id": "macro-forestry",
   "metadata": {
    "ExecuteTime": {
     "end_time": "2021-03-28T02:55:04.098668Z",
     "start_time": "2021-03-28T02:55:04.085701Z"
    }
   },
   "outputs": [],
   "source": [
    "import re\n",
    "from typing import List"
   ]
  },
  {
   "cell_type": "code",
   "execution_count": 2,
   "id": "basic-frequency",
   "metadata": {
    "ExecuteTime": {
     "end_time": "2021-03-28T02:55:04.114370Z",
     "start_time": "2021-03-28T02:55:04.101245Z"
    }
   },
   "outputs": [],
   "source": [
    "def get_binary_for_char(char: str, encoding=\"utf-8\") -> str:\n",
    "   \n",
    "    hex_code = char.encode(encoding).hex()\n",
    "    code_point = hex(ord(char))[2:].upper()\n",
    "\n",
    "    binary: str = f\"{int(hex_code, 16):08b}\"\n",
    "\n",
    "    byte_list: List[str] = re.findall('[01]{8}', binary)\n",
    "    formatted_binary: str = \"\\t\".join(byte_list)\n",
    "    print(f\"{char} (U+{code_point.zfill(4)}, hex:{hex_code}) - {encoding}: {formatted_binary}\")\n",
    "    return formatted_binary\n",
    "\n",
    "def get_binary(text: str, encoding=\"utf-8\"):\n",
    "    return \" \".join([get_binary_for_char(char, encoding) for char in text])"
   ]
  },
  {
   "cell_type": "code",
   "execution_count": 3,
   "id": "compliant-poker",
   "metadata": {
    "ExecuteTime": {
     "end_time": "2021-03-28T02:55:04.129489Z",
     "start_time": "2021-03-28T02:55:04.116277Z"
    }
   },
   "outputs": [
    {
     "name": "stdout",
     "output_type": "stream",
     "text": [
      "사 (U+C0AC, hex:ec82ac) - utf8: 11101100\t10000010\t10101100\n",
      "업 (U+C5C5, hex:ec9785) - utf8: 11101100\t10010111\t10000101\n"
     ]
    },
    {
     "data": {
      "text/plain": [
       "'11101100\\t10000010\\t10101100 11101100\\t10010111\\t10000101'"
      ]
     },
     "execution_count": 3,
     "metadata": {},
     "output_type": "execute_result"
    }
   ],
   "source": [
    "get_binary(\"사업\", encoding=\"utf8\")"
   ]
  },
  {
   "cell_type": "code",
   "execution_count": 4,
   "id": "pretty-valentine",
   "metadata": {
    "ExecuteTime": {
     "end_time": "2021-03-28T02:55:04.144704Z",
     "start_time": "2021-03-28T02:55:04.130486Z"
    }
   },
   "outputs": [
    {
     "name": "stdout",
     "output_type": "stream",
     "text": [
      "사 (U+C0AC, hex:fffe0000acc00000) - utf32: 11111111\t11111110\t00000000\t00000000\t10101100\t11000000\t00000000\t00000000\n",
      "업 (U+C5C5, hex:fffe0000c5c50000) - utf32: 11111111\t11111110\t00000000\t00000000\t11000101\t11000101\t00000000\t00000000\n"
     ]
    },
    {
     "data": {
      "text/plain": [
       "'11111111\\t11111110\\t00000000\\t00000000\\t10101100\\t11000000\\t00000000\\t00000000 11111111\\t11111110\\t00000000\\t00000000\\t11000101\\t11000101\\t00000000\\t00000000'"
      ]
     },
     "execution_count": 4,
     "metadata": {},
     "output_type": "execute_result"
    }
   ],
   "source": [
    "get_binary(\"사업\", encoding=\"utf32\")"
   ]
  },
  {
   "cell_type": "markdown",
   "id": "reverse-prayer",
   "metadata": {},
   "source": [
    "utf-8 and utf-32 are able to encode \"사업\""
   ]
  },
  {
   "cell_type": "markdown",
   "id": "faced-corps",
   "metadata": {},
   "source": [
    "Question 2\n",
    "\n",
    "**True or False**: the word dog will have the same binary representation regardless of whether it is ASCII, latin1, or utf8. If False, explain why it is false."
   ]
  },
  {
   "cell_type": "code",
   "execution_count": 5,
   "id": "excellent-republic",
   "metadata": {
    "ExecuteTime": {
     "end_time": "2021-03-28T02:55:04.160627Z",
     "start_time": "2021-03-28T02:55:04.146666Z"
    }
   },
   "outputs": [
    {
     "name": "stdout",
     "output_type": "stream",
     "text": [
      "d (U+0064, hex:64) - ascii: 01100100\n",
      "o (U+006F, hex:6f) - ascii: 01101111\n",
      "g (U+0067, hex:67) - ascii: 01100111\n"
     ]
    },
    {
     "data": {
      "text/plain": [
       "'01100100 01101111 01100111'"
      ]
     },
     "execution_count": 5,
     "metadata": {},
     "output_type": "execute_result"
    }
   ],
   "source": [
    "get_binary(\"dog\", encoding=\"ascii\")"
   ]
  },
  {
   "cell_type": "code",
   "execution_count": 6,
   "id": "united-freeze",
   "metadata": {
    "ExecuteTime": {
     "end_time": "2021-03-28T02:55:04.176587Z",
     "start_time": "2021-03-28T02:55:04.162623Z"
    }
   },
   "outputs": [
    {
     "name": "stdout",
     "output_type": "stream",
     "text": [
      "d (U+0064, hex:64) - latin-1: 01100100\n",
      "o (U+006F, hex:6f) - latin-1: 01101111\n",
      "g (U+0067, hex:67) - latin-1: 01100111\n"
     ]
    },
    {
     "data": {
      "text/plain": [
       "'01100100 01101111 01100111'"
      ]
     },
     "execution_count": 6,
     "metadata": {},
     "output_type": "execute_result"
    }
   ],
   "source": [
    "get_binary(\"dog\", encoding=\"latin-1\")"
   ]
  },
  {
   "cell_type": "code",
   "execution_count": 7,
   "id": "timely-price",
   "metadata": {
    "ExecuteTime": {
     "end_time": "2021-03-28T02:55:04.192575Z",
     "start_time": "2021-03-28T02:55:04.179578Z"
    }
   },
   "outputs": [
    {
     "name": "stdout",
     "output_type": "stream",
     "text": [
      "d (U+0064, hex:64) - utf-8: 01100100\n",
      "o (U+006F, hex:6f) - utf-8: 01101111\n",
      "g (U+0067, hex:67) - utf-8: 01100111\n"
     ]
    },
    {
     "data": {
      "text/plain": [
       "'01100100 01101111 01100111'"
      ]
     },
     "execution_count": 7,
     "metadata": {},
     "output_type": "execute_result"
    }
   ],
   "source": [
    "get_binary(\"dog\", encoding=\"utf-8\")"
   ]
  },
  {
   "cell_type": "markdown",
   "id": "vocal-preference",
   "metadata": {},
   "source": [
    "True"
   ]
  },
  {
   "cell_type": "markdown",
   "id": "express-height",
   "metadata": {},
   "source": [
    "Question 3\n",
    "\n",
    "According to the Zipf Law approximation, approximately what frequency (express it has a percent) would the 3rd most popular word in a generic piece of text appear?"
   ]
  },
  {
   "cell_type": "markdown",
   "id": "smooth-thumbnail",
   "metadata": {},
   "source": [
    "If $t_1$ is the most common word in a collection of text, and $t_2$ is the next most common word, then the frequency of the $i$th most common word is proportional to $\\frac{1}{i}$. The approximation we'll use specifically for natural languages is\n",
    "\n",
    "$$\n",
    "f(t_i) = \\frac{0.1}{i^\\alpha}\n",
    "$$\n",
    "\n",
    "$\\alpha = 1$."
   ]
  },
  {
   "cell_type": "code",
   "execution_count": 8,
   "id": "alien-sender",
   "metadata": {
    "ExecuteTime": {
     "end_time": "2021-03-28T02:55:04.208500Z",
     "start_time": "2021-03-28T02:55:04.194540Z"
    }
   },
   "outputs": [
    {
     "name": "stdout",
     "output_type": "stream",
     "text": [
      "The third most popular word would have a frequency of 3.33%\n"
     ]
    }
   ],
   "source": [
    "ans=(0.1/3)*100\n",
    "print(f'The third most popular word would have a frequency of {round(ans,2)}%')"
   ]
  },
  {
   "cell_type": "markdown",
   "id": "acceptable-partner",
   "metadata": {},
   "source": [
    "Question 4\n",
    "\n",
    "**True or False**: what is considered a stopword changes depending on the business context and dataset you are working with. If true, provide an example. If false, explain why it is false."
   ]
  },
  {
   "cell_type": "markdown",
   "id": "eastern-value",
   "metadata": {},
   "source": [
    "True: Stopwords can sometimes have a great deal of influence on the meaning of the text you're trying to analyze. A particular word may be useful to remove in one scenario, but harmful in another. The removal of stopwords is also related to the overall goal of the analysis. If we're modeling with the purpose of capturing the semantic meaning and its interrelated properties (like the word \"not\"), you would need to be careful in which words you remove. "
   ]
  }
 ],
 "metadata": {
  "kernelspec": {
   "display_name": "Python 3",
   "language": "python",
   "name": "python3"
  },
  "language_info": {
   "codemirror_mode": {
    "name": "ipython",
    "version": 3
   },
   "file_extension": ".py",
   "mimetype": "text/x-python",
   "name": "python",
   "nbconvert_exporter": "python",
   "pygments_lexer": "ipython3",
   "version": "3.7.6"
  },
  "toc": {
   "base_numbering": 1,
   "nav_menu": {},
   "number_sections": true,
   "sideBar": true,
   "skip_h1_title": false,
   "title_cell": "Table of Contents",
   "title_sidebar": "Contents",
   "toc_cell": false,
   "toc_position": {},
   "toc_section_display": true,
   "toc_window_display": false
  },
  "varInspector": {
   "cols": {
    "lenName": 16,
    "lenType": 16,
    "lenVar": 40
   },
   "kernels_config": {
    "python": {
     "delete_cmd_postfix": "",
     "delete_cmd_prefix": "del ",
     "library": "var_list.py",
     "varRefreshCmd": "print(var_dic_list())"
    },
    "r": {
     "delete_cmd_postfix": ") ",
     "delete_cmd_prefix": "rm(",
     "library": "var_list.r",
     "varRefreshCmd": "cat(var_dic_list()) "
    }
   },
   "types_to_exclude": [
    "module",
    "function",
    "builtin_function_or_method",
    "instance",
    "_Feature"
   ],
   "window_display": false
  }
 },
 "nbformat": 4,
 "nbformat_minor": 5
}
