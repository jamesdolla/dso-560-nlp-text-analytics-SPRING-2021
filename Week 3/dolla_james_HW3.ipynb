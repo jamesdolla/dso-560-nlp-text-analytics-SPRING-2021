{
 "cells": [
  {
   "cell_type": "markdown",
   "metadata": {},
   "source": [
    "# HW3\n",
    "\n",
    "Submit via Slack. Due on Tuesday, April 13th, 2020, 6:29pm PST. You may work with one other person."
   ]
  },
  {
   "cell_type": "code",
   "execution_count": null,
   "metadata": {
    "ExecuteTime": {
     "end_time": "2021-04-13T18:32:36.409621Z",
     "start_time": "2021-04-13T18:32:34.413539Z"
    }
   },
   "outputs": [],
   "source": [
    "import plotly.express as px\n",
    "import matplotlib.pyplot as plt\n",
    "from collections import Counter,OrderedDict\n",
    "import re\n",
    "import pandas as pd\n",
    "from sklearn.feature_extraction.text import CountVectorizer\n",
    "from sklearn.metrics.pairwise import cosine_similarity\n",
    "from sklearn.feature_extraction.text import TfidfVectorizer\n",
    "import nltk\n",
    "from nltk.corpus import stopwords\n",
    "from nltk.stem import WordNetLemmatizer\n",
    "from nltk.tokenize import sent_tokenize\n",
    "from nltk.collocations import BigramCollocationFinder, BigramAssocMeasures\n",
    "from nltk import word_tokenize\n",
    "lemmatizer = WordNetLemmatizer()\n",
    "stemmer=nltk.stem.porter.PorterStemmer()"
   ]
  },
  {
   "cell_type": "markdown",
   "metadata": {},
   "source": [
    "## TF-IDF\n",
    "\n",
    "You are an analyst working at McDonalds as a store operations analyst, and charged with identifying areas for improvement for each franchise. Several metropolitan locations have been suffering recently from lower reviews.\n",
    "\n",
    "Using the **mcdonalds-yelp-negative-reviews.csv** dataset, clean and parse the text reviews. Explain the decisions you make:\n",
    "- why remove/keep stopwords?\n",
    "- which stopwords to remove?\n",
    "- stemming versus lemmatization?\n",
    "- regex cleaning and substitution?\n",
    "- adding in custom stopwords?\n",
    "- what `n` for your `n-grams`?\n",
    "\n",
    "Finally, generate a TF-IDF report that either **visualizes** or explains for a business (non-technical) stakeholder:\n",
    "* the features your analysis showed that customers cited as reasons for a poor review\n",
    "* the most common issues identified from your analysis that generated customer dissatisfaction.\n",
    "\n",
    "Explain to what degree the TF-IDF findings make sense - what are its limitations?"
   ]
  },
  {
   "cell_type": "code",
   "execution_count": null,
   "metadata": {
    "ExecuteTime": {
     "end_time": "2021-04-13T18:32:36.474563Z",
     "start_time": "2021-04-13T18:32:36.409621Z"
    }
   },
   "outputs": [],
   "source": [
    "reviews=pd.read_csv('mcdonalds-yelp-negative-reviews.csv',encoding='latin1')\n",
    "reviews.head()"
   ]
  },
  {
   "cell_type": "code",
   "execution_count": null,
   "metadata": {
    "ExecuteTime": {
     "end_time": "2021-04-13T18:32:38.330189Z",
     "start_time": "2021-04-13T18:32:36.476563Z"
    }
   },
   "outputs": [],
   "source": [
    "reviews['review']=reviews['review'].apply(lambda x: \" \".join([stemmer.stem(i) for i in x.split(\" \")]))"
   ]
  },
  {
   "cell_type": "code",
   "execution_count": null,
   "metadata": {
    "ExecuteTime": {
     "end_time": "2021-04-13T18:32:38.345271Z",
     "start_time": "2021-04-13T18:32:38.330189Z"
    }
   },
   "outputs": [],
   "source": [
    "stopwords=list(stopwords.words('english'))\n",
    "stopwords.append('mcd')\n",
    "stopwords.append('mcds')\n",
    "stopwords.append('mcdonald')\n",
    "stopwords.append('mcdonalds')\n",
    "stopwords.append('restaurant')\n",
    "stopwords.append('restaurants')\n",
    "stopwords.append('order')\n",
    "stopwords.append('orders')\n",
    "stopwords.remove('don\\'t')\n",
    "stopwords.remove('shouldn\\'t')\n",
    "stopwords.remove('didn\\'t')\n",
    "stopwords.remove('no')\n",
    "stopwords.remove('not')"
   ]
  },
  {
   "cell_type": "code",
   "execution_count": null,
   "metadata": {
    "ExecuteTime": {
     "end_time": "2021-04-13T18:32:42.597630Z",
     "start_time": "2021-04-13T18:32:38.345271Z"
    }
   },
   "outputs": [],
   "source": [
    "vectorizer=TfidfVectorizer(ngram_range=(3,4),token_pattern=r'\\b[a-zA-Z]{3,}\\b',max_df=0.4,stop_words=stopwords)\n",
    "corpus=list(reviews['review'].values)\n",
    "X=vectorizer.fit_transform(corpus)\n",
    "terms=vectorizer.get_feature_names()\n",
    "tf_idf=pd.DataFrame(X.toarray().transpose(),index=terms)\n",
    "tf_idf=tf_idf.sum(axis=1)\n",
    "score=pd.DataFrame(tf_idf,columns=['score'])\n",
    "score.sort_values(by='score',ascending=False,inplace=True)\n",
    "top25=score.head(25)\n",
    "top25"
   ]
  },
  {
   "cell_type": "markdown",
   "metadata": {
    "ExecuteTime": {
     "end_time": "2021-04-10T00:21:35.868818Z",
     "start_time": "2021-04-10T00:21:35.863584Z"
    }
   },
   "source": [
    "The code above gives us a rank ordered list in terms of TFIDF scores that summarizes the major recurring components of the negative reviews. Based on the top 25 TFIDF scores, we can start to pick up a few patterns and areas of interest. Drive thrus appear to be a major bottleneck and a frequent complaint for unhappy McDonald's customers. In addition, the customer service and cleanliness appear to be unsatisfactory for these reviewers. In terms of McDonald's products, ice cream and breakfast (meals with eggs) seem to be a pain point for some."
   ]
  },
  {
   "cell_type": "code",
   "execution_count": null,
   "metadata": {
    "ExecuteTime": {
     "end_time": "2021-04-13T18:32:43.550755Z",
     "start_time": "2021-04-13T18:32:42.597630Z"
    }
   },
   "outputs": [],
   "source": [
    "fig=px.bar(top25,y='score')\n",
    "fig.show()"
   ]
  },
  {
   "cell_type": "markdown",
   "metadata": {},
   "source": [
    "- I removed stopwords in order to eliminate some of the noise in the review set. I first removed the English stopwords (I added back a few of the negative English stopwords to preserve some of syntactical meaning of the reviews) and then added a few custom stopwords to supplement. For example, I removed the variations of the word \"McDonald's\" and \"order\" because they don't add much value in this context. \n",
    "- I used stemming because it reduces the dimensionality more than lemmatization. Just looking at the stems of each word fits the business use case here. We don't lose too much interpretability compared to lemmatization.\n",
    "- The regex cleaning was primarily taken care of in the \"TfidfVectorizer\" function via \"token_pattern\". Stemming also played a part in accounting for plurals and other similar discrepancies.\n",
    "- I ended up choosing my \"ngram_range\" to be between 3 and 4. I believe it was a good parameter choice that enables us to capture the major themes throughout the reviews."
   ]
  },
  {
   "cell_type": "markdown",
   "metadata": {},
   "source": [
    "TFIDF does have some limitations. Primarily, its scoring system relies on the assumption that words that don't appear often have a high weight and words that appear frequently within a particular document (review) also have a high weight. If the McDonald's reviews don't abide by this definition, the scoring and summarization takeaways could be a bit misleading."
   ]
  },
  {
   "cell_type": "markdown",
   "metadata": {},
   "source": [
    "## Product Attribution (Feature Engineering and Regex Practice)\n",
    "\n",
    "Download the [dataset](https://dso-560-nlp-text-analytics.s3.amazonaws.com/truncated_catalog.csv) from the class S3 bucket (`dso560-nlp-text-analytics`).\n",
    "\n",
    "In preparation for the group project, our client company has provided a dataset of women's clothing products they are considering cataloging. \n",
    "\n",
    "1. Filter for only **women's clothing items**.\n",
    "\n",
    "2. For each clothing item:\n",
    "\n",
    "* Identify its **category**:\n",
    "```\n",
    "Bottom\n",
    "One Piece\n",
    "Shoe\n",
    "Handbag\n",
    "Scarf\n",
    "```\n",
    "* Identify its **color**:\n",
    "```\n",
    "Beige\n",
    "Black\n",
    "Blue\n",
    "Brown\n",
    "Burgundy\n",
    "Gold\n",
    "Gray\n",
    "Green\n",
    "Multi \n",
    "Navy\n",
    "Neutral\n",
    "Orange\n",
    "Pinks\n",
    "Purple\n",
    "Red\n",
    "Silver\n",
    "Teal\n",
    "White\n",
    "Yellow\n",
    "```\n",
    "\n",
    "Your output will be the same dataset, except with **3 additional fields**:\n",
    "* `is_womens_clothing`\n",
    "* `product_category`\n",
    "* `colors`\n",
    "\n",
    "`colors` should be a list of colors, since it is possible for a piece of clothing to have multiple colors."
   ]
  },
  {
   "cell_type": "code",
   "execution_count": null,
   "metadata": {
    "ExecuteTime": {
     "end_time": "2021-04-13T18:32:43.962614Z",
     "start_time": "2021-04-13T18:32:43.554747Z"
    }
   },
   "outputs": [],
   "source": [
    "clothes=pd.read_csv('truncated_catalog.csv',encoding='latin1')\n",
    "clothes=clothes.rename(columns={\"ï»¿brand\": \"brand\"})\n",
    "clothes.head()"
   ]
  },
  {
   "cell_type": "code",
   "execution_count": null,
   "metadata": {
    "ExecuteTime": {
     "end_time": "2021-04-13T18:32:43.978570Z",
     "start_time": "2021-04-13T18:32:43.963579Z"
    }
   },
   "outputs": [],
   "source": [
    "def women(x):\n",
    "    if len(re.findall(r'(women|women\\'s|womens|\\\n",
    "                         woman|woman\\'s|\\\n",
    "                         girl|girl\\'s|girls|\\\n",
    "                         ladies|lady|lady\\'s|unisex)'\\\n",
    "                         ,x,flags=re.IGNORECASE))>=1:\n",
    "        return True\n",
    "    else:\n",
    "        return False"
   ]
  },
  {
   "cell_type": "code",
   "execution_count": null,
   "metadata": {
    "ExecuteTime": {
     "end_time": "2021-04-13T18:32:44.227906Z",
     "start_time": "2021-04-13T18:32:43.979573Z"
    }
   },
   "outputs": [],
   "source": [
    "clothes['is_womens_clothing']=clothes['name'].apply(women)"
   ]
  },
  {
   "cell_type": "code",
   "execution_count": null,
   "metadata": {
    "ExecuteTime": {
     "end_time": "2021-04-13T18:32:46.825976Z",
     "start_time": "2021-04-13T18:32:44.228908Z"
    }
   },
   "outputs": [],
   "source": [
    "for i in ['description','brand_category','brand_canonical_url','details']:\n",
    "    clothes.loc[(clothes['is_womens_clothing']==False) & (clothes[i].notnull()),'is_womens_clothing']=\\\n",
    "        clothes.loc[(clothes['is_womens_clothing']==False) & (clothes[i].notnull()),i].apply(women)"
   ]
  },
  {
   "cell_type": "code",
   "execution_count": null,
   "metadata": {
    "ExecuteTime": {
     "end_time": "2021-04-13T18:32:46.846183Z",
     "start_time": "2021-04-13T18:32:46.828030Z"
    }
   },
   "outputs": [],
   "source": [
    "def category(x):\n",
    "    if len(re.findall(r'(pants|shorts|skirts|skirt|\\\n",
    "                         bottoms|bottom|jeans|sweats|\\\n",
    "                         sweatpants)'\\\n",
    "                         ,x,flags=re.IGNORECASE))>=1:\n",
    "        return 'Bottom'\n",
    "    elif len(re.findall(r'(dresses|dress|one piece|one-piece)'\\\n",
    "                           ,x,flags=re.IGNORECASE))>=1:\n",
    "        return 'One Piece'\n",
    "    elif len(re.findall(r'(shoes|shoe|heels|heel|\\\n",
    "                           sandals|sandal|sneakers|\\\n",
    "                           sneaker|boots|boot|\\\n",
    "                           flip flops|flip flop|cleats|cleat)'\\\n",
    "                           ,x,flags=re.IGNORECASE))>=1:\n",
    "        return 'Shoe'\n",
    "    elif len(re.findall(r'(handbags|handbag|purses|purse|\\\n",
    "                           bags|bag|clutch|tote bag|tote bags)'\\\n",
    "                           ,x,flags=re.IGNORECASE))>=1:\n",
    "        return 'Handbag'\n",
    "    elif len(re.findall(r'(scarfs|scarf|scarves|skirt)'\\\n",
    "                           ,x,flags=re.IGNORECASE))>=1:\n",
    "        return 'Scarf'"
   ]
  },
  {
   "cell_type": "code",
   "execution_count": null,
   "metadata": {
    "ExecuteTime": {
     "end_time": "2021-04-13T18:32:47.653237Z",
     "start_time": "2021-04-13T18:32:46.846183Z"
    }
   },
   "outputs": [],
   "source": [
    "clothes.loc[clothes['name'].notnull(),'product_category']=clothes.loc[clothes['name'].notnull(),'name'].apply(category)"
   ]
  },
  {
   "cell_type": "code",
   "execution_count": null,
   "metadata": {
    "ExecuteTime": {
     "end_time": "2021-04-13T18:32:54.914145Z",
     "start_time": "2021-04-13T18:32:47.654104Z"
    }
   },
   "outputs": [],
   "source": [
    "for i in ['description','brand_category','brand_canonical_url','details']:\n",
    "    clothes.loc[(clothes[i].notnull()) & (clothes['product_category']\\\n",
    "        .isnull()),'product_category']=clothes.loc[(clothes[i].notnull())\\\n",
    "        & (clothes['product_category'].isnull()),i].apply(category)"
   ]
  },
  {
   "cell_type": "code",
   "execution_count": null,
   "metadata": {
    "ExecuteTime": {
     "end_time": "2021-04-13T18:32:55.131024Z",
     "start_time": "2021-04-13T18:32:54.916187Z"
    }
   },
   "outputs": [],
   "source": [
    "clothes['product_category'].value_counts().plot.bar()\n",
    "plt.xticks(rotation=0)"
   ]
  },
  {
   "cell_type": "code",
   "execution_count": null,
   "metadata": {
    "ExecuteTime": {
     "end_time": "2021-04-13T18:32:55.146986Z",
     "start_time": "2021-04-13T18:32:55.133022Z"
    }
   },
   "outputs": [],
   "source": [
    "def color(x):\n",
    "    colors=[]\n",
    "    for i in ['Beige','Black','Blue','Brown','Burgundy','Gold','Gray','Green','Multi','Navy','Neutral',\\\n",
    "              'Orange','Pinks','Purple','Red','Silver','Teal','White','Yellow']:\n",
    "        if len(re.findall(f'({i})',x,flags=re.IGNORECASE))>=1:\n",
    "            colors.append(i)\n",
    "    return colors"
   ]
  },
  {
   "cell_type": "code",
   "execution_count": null,
   "metadata": {
    "ExecuteTime": {
     "end_time": "2021-04-13T18:32:56.422393Z",
     "start_time": "2021-04-13T18:32:55.148979Z"
    }
   },
   "outputs": [],
   "source": [
    "clothes.loc[clothes['name'].notnull(),'colors']=clothes.loc[clothes['name'].notnull(),'name'].apply(color)"
   ]
  },
  {
   "cell_type": "code",
   "execution_count": null,
   "metadata": {
    "ExecuteTime": {
     "end_time": "2021-04-13T18:32:56.500111Z",
     "start_time": "2021-04-13T18:32:56.424386Z"
    }
   },
   "outputs": [],
   "source": [
    "for i in ['description','brand_category','brand_canonical_url','details']:\n",
    "    clothes.loc[(clothes[i].notnull()) & (clothes['colors']\\\n",
    "        .isnull()),'colors']=clothes.loc[(clothes[i].notnull())\\\n",
    "        & (clothes['colors'].isnull()),i].apply(color)"
   ]
  },
  {
   "cell_type": "code",
   "execution_count": null,
   "metadata": {
    "ExecuteTime": {
     "end_time": "2021-04-13T18:32:56.531794Z",
     "start_time": "2021-04-13T18:32:56.502109Z"
    }
   },
   "outputs": [],
   "source": [
    "clothes.loc[clothes['colors'].notnull(),'colors']=clothes.loc[clothes['colors'].notnull(),'colors']\\\n",
    "    .apply(lambda x: None if len(x)==0 else x)"
   ]
  },
  {
   "cell_type": "code",
   "execution_count": null,
   "metadata": {
    "ExecuteTime": {
     "end_time": "2021-04-13T18:32:56.654329Z",
     "start_time": "2021-04-13T18:32:56.532827Z"
    }
   },
   "outputs": [],
   "source": [
    "clothes['colors'].value_counts().head(10).plot.barh()"
   ]
  },
  {
   "cell_type": "code",
   "execution_count": null,
   "metadata": {
    "ExecuteTime": {
     "end_time": "2021-04-13T18:32:56.686293Z",
     "start_time": "2021-04-13T18:32:56.655336Z"
    }
   },
   "outputs": [],
   "source": [
    "clothes"
   ]
  }
 ],
 "metadata": {
  "kernelspec": {
   "display_name": "Python 3",
   "language": "python",
   "name": "python3"
  },
  "language_info": {
   "codemirror_mode": {
    "name": "ipython",
    "version": 3
   },
   "file_extension": ".py",
   "mimetype": "text/x-python",
   "name": "python",
   "nbconvert_exporter": "python",
   "pygments_lexer": "ipython3",
   "version": "3.7.6"
  },
  "toc": {
   "base_numbering": 1,
   "nav_menu": {},
   "number_sections": true,
   "sideBar": true,
   "skip_h1_title": false,
   "title_cell": "Table of Contents",
   "title_sidebar": "Contents",
   "toc_cell": false,
   "toc_position": {},
   "toc_section_display": true,
   "toc_window_display": false
  },
  "varInspector": {
   "cols": {
    "lenName": 16,
    "lenType": 16,
    "lenVar": 40
   },
   "kernels_config": {
    "python": {
     "delete_cmd_postfix": "",
     "delete_cmd_prefix": "del ",
     "library": "var_list.py",
     "varRefreshCmd": "print(var_dic_list())"
    },
    "r": {
     "delete_cmd_postfix": ") ",
     "delete_cmd_prefix": "rm(",
     "library": "var_list.r",
     "varRefreshCmd": "cat(var_dic_list()) "
    }
   },
   "types_to_exclude": [
    "module",
    "function",
    "builtin_function_or_method",
    "instance",
    "_Feature"
   ],
   "window_display": false
  }
 },
 "nbformat": 4,
 "nbformat_minor": 2
}
